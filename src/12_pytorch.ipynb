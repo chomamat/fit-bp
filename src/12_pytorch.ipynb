{
  "nbformat": 4,
  "nbformat_minor": 0,
  "metadata": {
    "colab": {
      "name": "12_pytorch.ipynb",
      "version": "0.3.2",
      "provenance": []
    },
    "kernelspec": {
      "name": "python3",
      "display_name": "Python 3"
    },
    "accelerator": "GPU"
  },
  "cells": [
    {
      "metadata": {
        "colab_type": "code",
        "collapsed": true,
        "id": "b3FAMmp61N9O",
        "outputId": "1ca46cff-dff1-4c35-fbdc-cd6a5c27566a",
        "colab": {
          "base_uri": "https://localhost:8080/",
          "height": 714
        }
      },
      "cell_type": "code",
      "source": [
        "!pip3 install https://download.pytorch.org/whl/cu80/torch-1.0.0-cp36-cp36m-linux_x86_64.whl\n",
        "!pip3 install torchvision\n",
        "!pip3 install torchsummary\n",
        "!pip3 install tensorboardX\n",
        "\n",
        "from google.colab import drive\n",
        "drive.mount('/content/gdrive')\n",
        "!cp gdrive/My\\ Drive/x64/*.npy .\n",
        "!cp gdrive/My\\ Drive/*.py .\n",
        "!ls -l"
      ],
      "execution_count": 1,
      "outputs": [
        {
          "output_type": "stream",
          "text": [
            "Collecting torch==1.0.0 from https://download.pytorch.org/whl/cu80/torch-1.0.0-cp36-cp36m-linux_x86_64.whl\n",
            "\u001b[?25l  Downloading https://download.pytorch.org/whl/cu80/torch-1.0.0-cp36-cp36m-linux_x86_64.whl (532.5MB)\n",
            "\u001b[K    100% |████████████████████████████████| 532.5MB 31kB/s \n",
            "\u001b[31mfastai 1.0.50.post1 has requirement numpy>=1.15, but you'll have numpy 1.14.6 which is incompatible.\u001b[0m\n",
            "\u001b[?25hInstalling collected packages: torch\n",
            "  Found existing installation: torch 1.0.1.post2\n",
            "    Uninstalling torch-1.0.1.post2:\n",
            "      Successfully uninstalled torch-1.0.1.post2\n",
            "Successfully installed torch-1.0.0\n",
            "Requirement already satisfied: torchvision in /usr/local/lib/python3.6/dist-packages (0.2.2.post3)\n",
            "Requirement already satisfied: numpy in /usr/local/lib/python3.6/dist-packages (from torchvision) (1.14.6)\n",
            "Requirement already satisfied: torch in /usr/local/lib/python3.6/dist-packages (from torchvision) (1.0.0)\n",
            "Requirement already satisfied: pillow>=4.1.1 in /usr/local/lib/python3.6/dist-packages (from torchvision) (4.1.1)\n",
            "Requirement already satisfied: six in /usr/local/lib/python3.6/dist-packages (from torchvision) (1.11.0)\n",
            "Requirement already satisfied: olefile in /usr/local/lib/python3.6/dist-packages (from pillow>=4.1.1->torchvision) (0.46)\n",
            "Requirement already satisfied: torchsummary in /usr/local/lib/python3.6/dist-packages (1.5.1)\n",
            "Collecting tensorboardX\n",
            "\u001b[?25l  Downloading https://files.pythonhosted.org/packages/5c/76/89dd44458eb976347e5a6e75eb79fecf8facd46c1ce259bad54e0044ea35/tensorboardX-1.6-py2.py3-none-any.whl (129kB)\n",
            "\u001b[K    100% |████████████████████████████████| 133kB 601kB/s \n",
            "\u001b[?25hRequirement already satisfied: six in /usr/local/lib/python3.6/dist-packages (from tensorboardX) (1.11.0)\n",
            "Requirement already satisfied: protobuf>=3.2.0 in /usr/local/lib/python3.6/dist-packages (from tensorboardX) (3.7.1)\n",
            "Requirement already satisfied: numpy in /usr/local/lib/python3.6/dist-packages (from tensorboardX) (1.14.6)\n",
            "Requirement already satisfied: setuptools in /usr/local/lib/python3.6/dist-packages (from protobuf>=3.2.0->tensorboardX) (40.8.0)\n",
            "Installing collected packages: tensorboardX\n",
            "Successfully installed tensorboardX-1.6\n",
            "Go to this URL in a browser: https://accounts.google.com/o/oauth2/auth?client_id=947318989803-6bn6qk8qdgf4n4g3pfee6491hc0brc4i.apps.googleusercontent.com&redirect_uri=urn%3Aietf%3Awg%3Aoauth%3A2.0%3Aoob&scope=email%20https%3A%2F%2Fwww.googleapis.com%2Fauth%2Fdocs.test%20https%3A%2F%2Fwww.googleapis.com%2Fauth%2Fdrive%20https%3A%2F%2Fwww.googleapis.com%2Fauth%2Fdrive.photos.readonly%20https%3A%2F%2Fwww.googleapis.com%2Fauth%2Fpeopleapi.readonly&response_type=code\n",
            "\n",
            "Enter your authorization code:\n",
            "··········\n",
            "Mounted at /content/gdrive\n",
            "total 949904\n",
            "-rw------- 1 root root      2875 Mar 31 18:54 _dataset_tools.py\n",
            "drwx------ 3 root root      4096 Mar 31 18:54 gdrive\n",
            "-rw------- 1 root root      2481 Mar 31 18:54 _my_tools.py\n",
            "drwxr-xr-x 1 root root      4096 Mar 27 20:26 sample_data\n",
            "-rw------- 1 root root 129687680 Mar 31 18:54 X_test.npy\n",
            "-rw------- 1 root root 518750336 Mar 31 18:54 X_train.npy\n",
            "-rw------- 1 root root  64843904 Mar 31 18:54 y_test.npy\n",
            "-rw------- 1 root root 259375232 Mar 31 18:54 y_train.npy\n"
          ],
          "name": "stdout"
        }
      ]
    },
    {
      "metadata": {
        "colab_type": "code",
        "id": "QG3xCwCI1Mfg",
        "outputId": "c2a21a4e-128a-428e-a6a7-ad1ab4f78d30",
        "colab": {
          "base_uri": "https://localhost:8080/",
          "height": 34
        }
      },
      "cell_type": "code",
      "source": [
        "import torch\n",
        "import torch.nn as nn\n",
        "import torch.nn.functional as F\n",
        "import torch.optim as optim\n",
        "import torchvision\n",
        "import torchvision.transforms as transforms\n",
        "\n",
        "# from tensorboardX import SummaryWriter\n",
        "from torchsummary import summary\n",
        "\n",
        "import _my_tools as mt\n",
        "import numpy as np\n",
        "\n",
        "device = torch.device(\"cuda:0\" if torch.cuda.is_available() else \"cpu\")\n",
        "print(\"Device is\", device)\n",
        "X_train, y_train, X_test, y_test = mt.loadData(\"\",'float16',channels_last=False)"
      ],
      "execution_count": 2,
      "outputs": [
        {
          "output_type": "stream",
          "text": [
            "Device is cuda:0\n"
          ],
          "name": "stdout"
        }
      ]
    },
    {
      "metadata": {
        "colab_type": "code",
        "id": "ScRT-TqfAAyg",
        "scrolled": true,
        "colab": {}
      },
      "cell_type": "code",
      "source": [
        "class Model(nn.Module):\n",
        "    def __init__(self):\n",
        "        super(Model, self).__init__()\n",
        "        \n",
        "        self.KERNEL_SIZE = 31\n",
        "        self.activation = nn.LeakyReLU()\n",
        "        \n",
        "        self.conv_setup = {\n",
        "            'kernel' : (3,3),\n",
        "            'stride' : (1,1),\n",
        "            'padding' : 1,\n",
        "            'activation' : self.activation\n",
        "        }\n",
        "        self.pooling_setup = {\n",
        "            'kernel_size' : (2,2),\n",
        "            'stride' : (2,2)\n",
        "        }\n",
        "        self.upsample_setup = {\n",
        "            'scale_factor' : 2,\n",
        "            'mode' : 'bilinear',\n",
        "            'align_corners' : True\n",
        "        }\n",
        "\n",
        "        self.pooling_layer = nn.AvgPool2d(**self.pooling_setup)\n",
        "        self.upsample_layer = nn.Upsample(**self.upsample_setup)\n",
        "        \n",
        "        self.conv32 = self._convBlock(2, 32, **self.conv_setup)\n",
        "        self.conv64 = self._convBlock(32, 64, **self.conv_setup)\n",
        "        self.conv128 = self._convBlock(64, 128, **self.conv_setup)\n",
        "        self.conv256 = self._convBlock(128, 256, **self.conv_setup)\n",
        "        self.conv256_256 = self._convBlock(256, 256, **self.conv_setup)\n",
        "\n",
        "\n",
        "        self.upsample256 = self._upsampleBlock(self.upsample_layer, 256, 256, **self.conv_setup)\n",
        "        self.deconv128 = self._convBlock(256, 128, **self.conv_setup)\n",
        "        self.upsample128 = self._upsampleBlock(self.upsample_layer, 128, 128, **self.conv_setup)\n",
        "        self.deconv64 = self._convBlock(128, 64, **self.conv_setup)\n",
        "        self.upsample64 = self._upsampleBlock(self.upsample_layer, 64, 64, **self.conv_setup)\n",
        "        self.deconv32 = self._convBlock(64, 32, **self.conv_setup)\n",
        "        self.upsample32 = self._upsampleBlock(self.upsample_layer, 32, 32, **self.conv_setup)\n",
        "        self.deconv1 = self._convBlock(32, 1, kernel=(3,3), stride=(1,1), padding=1, activation=nn.LeakyReLU())#**self.conv_setup)\n",
        "        \n",
        "    def forward(self, x):\n",
        "        x32 = self.conv32(x)\n",
        "        x32_p = self.pooling_layer(x32)\n",
        "        x64 = self.conv64(x32_p)\n",
        "        x64_p = self.pooling_layer(x64)\n",
        "        x128 = self.conv128(x64_p)\n",
        "        x128_p = self.pooling_layer(x128)\n",
        "        x256 = self.conv256(x128_p)\n",
        "        x256_p = self.pooling_layer(x256)\n",
        "\n",
        "        x = self.conv256_256(x256_p)\n",
        "\n",
        "        # expansion\n",
        "\n",
        "        x = self.upsample256(x)\n",
        "        x += x256\n",
        "        x = self.deconv128(x)\n",
        "\n",
        "        x = self.upsample128(x)\n",
        "        x += x128\n",
        "        x = self.deconv64(x)\n",
        "\n",
        "        x = self.upsample64(x)\n",
        "        x += x64\n",
        "        x = self.deconv32(x)\n",
        "        \n",
        "        x = self.upsample32(x)\n",
        "        x += x32\n",
        "        x = self.deconv1(x)\n",
        "        \n",
        "        return x\n",
        "    \n",
        "    @staticmethod\n",
        "    def _convBlock(in_channels, out_channels, kernel, stride, padding, activation):\n",
        "        return nn.Sequential(\n",
        "#             nn.Conv2d(in_channels, in_channels, kernel, stride, padding), nn.LeakyReLU(),\n",
        "#             nn.Conv2d(in_channels, in_channels, kernel, stride, padding), nn.LeakyReLU(),\n",
        "            nn.Conv2d(in_channels, out_channels, kernel, stride, padding), activation\n",
        "        )\n",
        "    @staticmethod\n",
        "    def _upsampleBlock(upsample, in_channels, out_channels, kernel, stride, padding, activation):\n",
        "        return nn.Sequential(\n",
        "            upsample,\n",
        "            nn.Conv2d(in_channels, out_channels, kernel, stride, padding), activation\n",
        "        )\n",
        "\n",
        "model = Model()\n",
        "model.to(device)\n",
        "# print(model)\n",
        "# if device == torch.device(\"cpu\"):\n",
        "#     print(summary(model, (2,64,64)))\n",
        "# else:\n",
        "#     print(summary(model.cuda(), (2,64,64)))\n",
        "    \n",
        "# --------------------------------------------------------------------------------------------------\n",
        "\n",
        "def getLossOptimizer(net, learning_rate=0.001):\n",
        "    loss_function = nn.L1Loss()\n",
        "#     optimizer = optim.Adamax(net.parameters(), lr=learning_rate)\n",
        "    optimizer = optim.SGD(net.parameters(), lr=learning_rate)\n",
        "    \n",
        "    return (loss_function, optimizer)\n",
        "\n",
        "def getBatch(X, y, offset, batch_size, device):\n",
        "    input = torch.autograd.Variable(torch.tensor( X[ offset:offset + batch_size ], dtype=torch.float))\n",
        "    target = torch.tensor( y[ offset:offset + batch_size ], dtype=torch.float)\n",
        "    return input.to(device), target.to(device)\n",
        "\n",
        "def formatTime(t):\n",
        "    t = int(t)\n",
        "    s = t % 60\n",
        "    m = (t // 60) % 60\n",
        "    h = t // 3600\n",
        "    return str(h) + \":\" + str(m).zfill(2) + \":\" + str(s).zfill(2)"
      ],
      "execution_count": 0,
      "outputs": []
    },
    {
      "metadata": {
        "colab_type": "code",
        "id": "hOrq8Ntbj_EH",
        "outputId": "9cd85328-dbfb-4591-fe83-88c29d56baa5",
        "colab": {
          "base_uri": "https://localhost:8080/",
          "height": 211
        }
      },
      "cell_type": "code",
      "source": [
        "import time\n",
        "import copy\n",
        "\n",
        "def fit(model, device, X, y, batch_size, n_epochs, history, X_val=None, y_val=None):\n",
        "    \n",
        "    #Print all of the hyperparameters of the training iteration:\n",
        "    print(\"====== HYPERPARAMETERS ======\")\n",
        "    print(\"batch_size =\", batch_size)\n",
        "    print(\"epochs =\", n_epochs)\n",
        "    print(\"device\",device)\n",
        "    print(\"=\" * 29)\n",
        "    \n",
        "    assert X.shape[0] == y.shape[0]\n",
        "    assert X.shape[2:4] == y.shape[2:4]\n",
        "    \n",
        "    model.to(device)\n",
        "    loss_function, optimizer = getLossOptimizer(model)\n",
        "    n_batch = X.shape[0] // batch_size\n",
        "    \n",
        "    start_T = int(time.time())\n",
        "    tick_T = time.time()\n",
        "    \n",
        "    for epoch in range(n_epochs):\n",
        "        print(\"===> Epoch[{}]\".format(epoch), end='', flush=True)\n",
        "        epoch_loss = 0\n",
        "        \n",
        "        for it in range(n_batch):\n",
        "            input, target = getBatch(X, y, it*batch_size, batch_size, device)\n",
        "#             print(\"##\",torch.mean(input))\n",
        "            optimizer.zero_grad()\n",
        "            \n",
        "            output = model(input)\n",
        "#             print(\"max - \",torch.max(output))\n",
        "#             mt.showImgGC(\"it\", output[0].cpu().detach())\n",
        "            loss = loss_function(output, target)\n",
        "            loss.backward()\n",
        "            optimizer.step()\n",
        "            \n",
        "            loss_train = loss.item()\n",
        "            epoch_loss += loss_train\n",
        "            \n",
        "            tack_T = time.time()\n",
        "            print(\"\\r\", end='')\n",
        "            print(\"===> Epoch[{}]({}/{}): Loss: {:.4f}\\tETA {}\\tEpoch Loss: {:.4f}\"\n",
        "                  .format(epoch, it + 1, n_batch, loss_train,\n",
        "                  formatTime((tack_T - start_T) / (it + 1) * (n_batch - it + 1)),\n",
        "                  epoch_loss / (it+1)), end='', flush=True)\n",
        "            tick_T = tack_T\n",
        "            \n",
        "        epoch_loss /= n_batch\n",
        "        history['train'].append(epoch_loss)\n",
        "        print(\"\\nEpoch[{}] finished with loss {}\".format(epoch, epoch_loss))\n",
        "        \n",
        "        if X_val is not None and y_val is not None:\n",
        "            history['val'].append( validate(model, loss_function, X_val, y_val, batch_size) )\n",
        "        \n",
        "        print(\"\\n----------------------------\\n\")\n",
        "    print(\"Finished training of {} epochs in {}.\".format(n_epochs, formatTime(int(time.time())-start_T)))\n",
        "        \n",
        "    return history\n",
        "        \n",
        "def validate(model, loss_function, X_val, y_val, train_batch_size):\n",
        "    assert X_val.shape[0] == y_val.shape[0]\n",
        "\n",
        "    val_loss = 0\n",
        "    n_batch_val = X_val.shape[0] // train_batch_size\n",
        "\n",
        "    print(\"Validating on {} samples.\".format(n_batch_val * train_batch_size))\n",
        "\n",
        "    for it in range(n_batch_val):\n",
        "        input, target = getBatch(X_val, y_val, it, train_batch_size, device)\n",
        "\n",
        "        output = model(input)\n",
        "        loss = loss_function(output, target)\n",
        "        val_loss += loss.item()\n",
        "\n",
        "    print(\"Validation loss = {:.4f}\".format(val_loss / n_batch_val))\n",
        "    return val_loss / n_batch_val\n",
        "\n",
        "\n",
        "history = {\n",
        "    'train' : [],\n",
        "    'val' : []\n",
        "}\n",
        "A = Model().cuda()\n",
        "try:\n",
        "    fit(A, device, X_train, y_train, 128, 5, history, X_val=X_test, y_val=y_test)\n",
        "except KeyboardInterrupt:\n",
        "    print(\"\\n\\nFinished training.\")"
      ],
      "execution_count": 122,
      "outputs": [
        {
          "output_type": "stream",
          "text": [
            "====== HYPERPARAMETERS ======\n",
            "batch_size = 128\n",
            "epochs = 5\n",
            "device cuda:0\n",
            "=============================\n",
            "===> Epoch[0]"
          ],
          "name": "stdout"
        },
        {
          "output_type": "stream",
          "text": [
            "/usr/local/lib/python3.6/dist-packages/torch/nn/modules/upsampling.py:129: UserWarning: nn.Upsample is deprecated. Use nn.functional.interpolate instead.\n",
            "  warnings.warn(\"nn.{} is deprecated. Use nn.functional.interpolate instead.\".format(self.name))\n"
          ],
          "name": "stderr"
        },
        {
          "output_type": "stream",
          "text": [
            "===> Epoch[0](79/494): Loss: 0.0875\tETA 0:02:50\tEpoch Loss: 0.1083\n",
            "\n",
            "Finished training.\n"
          ],
          "name": "stdout"
        }
      ]
    },
    {
      "metadata": {
        "colab_type": "code",
        "id": "Z8oKILPqAdMl",
        "colab": {}
      },
      "cell_type": "code",
      "source": [
        "print(history)"
      ],
      "execution_count": 0,
      "outputs": []
    },
    {
      "metadata": {
        "colab_type": "code",
        "id": "lFUTyEdR1Mgs",
        "outputId": "dbb41c27-9b02-4f28-8c3f-81809dc1e2cd",
        "colab": {
          "base_uri": "https://localhost:8080/",
          "height": 539
        }
      },
      "cell_type": "code",
      "source": [
        "import matplotlib.pyplot as plt\n",
        "def showImgGC(name,*img,folder=None):\n",
        "\tif len(img) == 0:\n",
        "\t\treturn\n",
        "\telse:\n",
        "\t\tres = img[0]\n",
        "\t\tfor i in img[1:]:\n",
        "\t\t\tres = np.concatenate((res,i),axis=1)\n",
        "\t\t\t\n",
        "\tfig, ax = plt.subplots(figsize=(30,30))\n",
        "\tax.grid(False)\n",
        "\tax.imshow(res.squeeze(), cmap='binary_r')\n",
        "\tif folder is not None:\n",
        "\t\tres = (res * 255).astype('int')\n",
        "\t\tcv.imwrite(folder+name+\".png\",res)\n",
        "\n",
        "def compare(i,X,y,res,folder=None):\n",
        "\tshowImgGC(str(i).zfill(2),X[i,0,:,:],y[i,0,:,:],res[i,0,:,:],X[i,1,:,:],folder=folder)\n",
        "\n",
        "a = A(torch.tensor(X_test[0:10], dtype=torch.float).to(device))\n",
        "print(torch.max(a))\n",
        "compare(0, X_test, y_test, a.cpu().detach().numpy())"
      ],
      "execution_count": 123,
      "outputs": [
        {
          "output_type": "stream",
          "text": [
            "/usr/local/lib/python3.6/dist-packages/torch/nn/modules/upsampling.py:129: UserWarning: nn.Upsample is deprecated. Use nn.functional.interpolate instead.\n",
            "  warnings.warn(\"nn.{} is deprecated. Use nn.functional.interpolate instead.\".format(self.name))\n"
          ],
          "name": "stderr"
        },
        {
          "output_type": "stream",
          "text": [
            "tensor(0.2104, device='cuda:0', grad_fn=<MaxBackward1>)\n"
          ],
          "name": "stdout"
        },
        {
          "output_type": "display_data",
          "data": {
            "image/png": "[encoded data removed]",
            "text/plain": [
              "<Figure size 2160x2160 with 1 Axes>"
            ]
          },
          "metadata": {
            "tags": []
          }
        }
      ]
    },
    {
      "metadata": {
        "id": "n3Abadhs8nwP",
        "colab_type": "code",
        "colab": {
          "base_uri": "https://localhost:8080/",
          "height": 469
        },
        "outputId": "cb50b54b-3ac2-48e5-e7d8-26a562de56b7"
      },
      "cell_type": "code",
      "source": [
        "class autoencoder(nn.Module):\n",
        "    def __init__(self):\n",
        "        super(autoencoder, self).__init__()\n",
        "        self.encoder = nn.Sequential(\n",
        "            nn.Conv2d(2, 16, 3, stride=3, padding=1),  # b, 16, 10, 10\n",
        "            nn.ReLU(),\n",
        "            nn.MaxPool2d(2, stride=2),  # b, 16, 5, 5\n",
        "            nn.Conv2d(16, 8, 3, stride=2, padding=1),  # b, 8, 3, 3\n",
        "            nn.ReLU(),\n",
        "            nn.MaxPool2d(2, stride=1)  # b, 8, 2, 2\n",
        "        )\n",
        "        self.decoder = nn.Sequential(\n",
        "            nn.ConvTranspose2d(8, 16, 3, stride=2),  # b, 16, 5, 5\n",
        "            nn.ReLU(),\n",
        "            nn.ConvTranspose2d(16, 8, 5, stride=3, padding=1),  # b, 8, 15, 15\n",
        "            nn.ReLU(),\n",
        "            nn.ConvTranspose2d(8, 2, 2, stride=2, padding=1),  # b, 1, 28, 28\n",
        "            nn.Tanh()\n",
        "        )\n",
        "\n",
        "    def forward(self, x):\n",
        "        x = self.encoder(x)\n",
        "        x = self.decoder(x)\n",
        "        return x\n",
        "    \n",
        "\n",
        "model = autoencoder().cuda()\n",
        "\n",
        "print(summary(model, (2,64,64)))"
      ],
      "execution_count": 83,
      "outputs": [
        {
          "output_type": "stream",
          "text": [
            "----------------------------------------------------------------\n",
            "        Layer (type)               Output Shape         Param #\n",
            "================================================================\n",
            "            Conv2d-1           [-1, 16, 22, 22]             304\n",
            "              ReLU-2           [-1, 16, 22, 22]               0\n",
            "         MaxPool2d-3           [-1, 16, 11, 11]               0\n",
            "            Conv2d-4              [-1, 8, 6, 6]           1,160\n",
            "              ReLU-5              [-1, 8, 6, 6]               0\n",
            "         MaxPool2d-6              [-1, 8, 5, 5]               0\n",
            "   ConvTranspose2d-7           [-1, 16, 11, 11]           1,168\n",
            "              ReLU-8           [-1, 16, 11, 11]               0\n",
            "   ConvTranspose2d-9            [-1, 8, 33, 33]           3,208\n",
            "             ReLU-10            [-1, 8, 33, 33]               0\n",
            "  ConvTranspose2d-11            [-1, 2, 64, 64]              66\n",
            "             Tanh-12            [-1, 2, 64, 64]               0\n",
            "================================================================\n",
            "Total params: 5,906\n",
            "Trainable params: 5,906\n",
            "Non-trainable params: 0\n",
            "----------------------------------------------------------------\n",
            "Input size (MB): 0.03\n",
            "Forward/backward pass size (MB): 0.43\n",
            "Params size (MB): 0.02\n",
            "Estimated Total Size (MB): 0.48\n",
            "----------------------------------------------------------------\n",
            "None\n"
          ],
          "name": "stdout"
        }
      ]
    },
    {
      "metadata": {
        "id": "_Mnt38WuOtDH",
        "colab_type": "code",
        "colab": {
          "base_uri": "https://localhost:8080/",
          "height": 69
        },
        "outputId": "6861c097-ecb7-45ea-9463-b4b9d1c3598c"
      },
      "cell_type": "code",
      "source": [
        "learning_rate = 1e-3\n",
        "criterion = nn.MSELoss()\n",
        "# optimizer = torch.optim.Adam(model.parameters(), lr=learning_rate,\n",
        "#                              weight_decay=1e-5)\n",
        "optimizer = optim.Adamax(model.parameters(), lr=learning_rate)\n",
        "\n",
        "num_epochs = 3\n",
        "batch_size = 128\n",
        "\n",
        "for epoch in range(num_epochs):\n",
        "    n_batch = X_train.shape[0] // batch_size\n",
        "    \n",
        "    for it in range(n_batch):\n",
        "#         img, _ = data\n",
        "        offset = it * batch_size\n",
        "        img = torch.tensor( X_train[ offset:offset + batch_size ], dtype=torch.float)\n",
        "        img = torch.autograd.Variable(img).cuda()\n",
        "        # ===================forward=====================\n",
        "        output = model(img)\n",
        "        loss = criterion(output, img)\n",
        "        # ===================backward====================\n",
        "        optimizer.zero_grad()\n",
        "        loss.backward()\n",
        "        optimizer.step()\n",
        "    # ===================log========================\n",
        "    print('epoch [{}/{}], loss:{:.4f}'\n",
        "          .format(epoch+1, num_epochs, loss.item()))"
      ],
      "execution_count": 84,
      "outputs": [
        {
          "output_type": "stream",
          "text": [
            "epoch [1/3], loss:0.0072\n",
            "epoch [2/3], loss:0.0054\n",
            "epoch [3/3], loss:0.0049\n"
          ],
          "name": "stdout"
        }
      ]
    },
    {
      "metadata": {
        "id": "2V0B6JsOQaH8",
        "colab_type": "code",
        "colab": {
          "base_uri": "https://localhost:8080/",
          "height": 957
        },
        "outputId": "ef4260bb-bc4f-41da-e478-e8555c93821d"
      },
      "cell_type": "code",
      "source": [
        "def showImgGC(name,*img,folder=None, axis=1):\n",
        "\tif len(img) == 0:\n",
        "\t\treturn\n",
        "\telse:\n",
        "\t\tres = img[0]\n",
        "\t\tfor i in img[1:]:\n",
        "\t\t\tres = np.concatenate((res,i),axis=axis)\n",
        "\t\t\t\n",
        "\tfig, ax = plt.subplots(figsize=(30,30))\n",
        "\tax.grid(False)\n",
        "\tprint(res.shape)\n",
        "\tax.imshow(res.squeeze(), cmap='binary_r')\n",
        "\tif folder is not None:\n",
        "\t\tres = (res * 255).astype('int')\n",
        "\t\tcv.imwrite(folder+name+\".png\",res)\n",
        "\n",
        "a = model(torch.tensor(X_test[0:10], dtype=torch.float).to(device))\n",
        "A = a.cpu().detach().numpy()\n",
        "print(A.shape)\n",
        "print(X_test.shape)\n",
        "showImgGC(\"\", X_test[0,0,:,:], A[0,0,:,:], axis=1)\n",
        "# compare(0, X_test, y_test, a.cpu().detach().numpy()[:,0,:,:])"
      ],
      "execution_count": 85,
      "outputs": [
        {
          "output_type": "stream",
          "text": [
            "(10, 2, 64, 64)\n",
            "(15831, 2, 64, 64)\n",
            "(64, 128)\n"
          ],
          "name": "stdout"
        },
        {
          "output_type": "display_data",
          "data": {
            "image/png": "[encoded data removed]",
            "text/plain": [
              "<Figure size 2160x2160 with 1 Axes>"
            ]
          },
          "metadata": {
            "tags": []
          }
        }
      ]
    },
    {
      "metadata": {
        "id": "mHR0XhVWRXdq",
        "colab_type": "code",
        "colab": {
          "base_uri": "https://localhost:8080/",
          "height": 957
        },
        "outputId": "c87c9579-13fd-4f6e-98d4-36aeeb256e46"
      },
      "cell_type": "code",
      "source": [
        "a = model(torch.tensor(X_test[0:10], dtype=torch.float).to(device))\n",
        "A = a.cpu().detach().numpy()\n",
        "print(A.shape)\n",
        "print(X_test.shape)\n",
        "showImgGC(\"\", X_test[0,0,:,:], A[0,0,:,:], axis=1)"
      ],
      "execution_count": 48,
      "outputs": [
        {
          "output_type": "stream",
          "text": [
            "(10, 2, 64, 64)\n",
            "(15831, 2, 64, 64)\n",
            "(64, 128)\n"
          ],
          "name": "stdout"
        },
        {
          "output_type": "display_data",
          "data": {
            "image/png": "[encoded data removed]",
            "text/plain": [
              "<Figure size 2160x2160 with 1 Axes>"
            ]
          },
          "metadata": {
            "tags": []
          }
        }
      ]
    },
    {
      "metadata": {
        "id": "3802eg6ZT0fX",
        "colab_type": "code",
        "colab": {}
      },
      "cell_type": "code",
      "source": [
        ""
      ],
      "execution_count": 0,
      "outputs": []
    }
  ]
}