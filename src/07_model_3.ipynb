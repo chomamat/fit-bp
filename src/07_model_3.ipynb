{
  "nbformat": 4,
  "nbformat_minor": 0,
  "metadata": {
    "colab": {
      "name": "07_model_3.ipynb",
      "version": "0.3.2",
      "provenance": []
    },
    "kernelspec": {
      "display_name": "Python 3",
      "language": "python",
      "name": "python3"
    }
  },
  "cells": [
    {
      "metadata": {
        "id": "TKH6NgSjjwaF",
        "colab_type": "text"
      },
      "cell_type": "markdown",
      "source": [
        "Toto je test, aby som skúsil, ako to funguje s GitHubom.\n",
        "\n",
        "\n",
        "---"
      ]
    },
    {
      "metadata": {
        "id": "5MdIHxxwji0z",
        "colab_type": "code",
        "colab": {
          "base_uri": "https://localhost:8080/",
          "height": 367
        },
        "outputId": "dba14aa4-61c8-4cdf-e80c-c95e230f6f47"
      },
      "cell_type": "code",
      "source": [
        "import tensorflow as tf\n",
        "from tensorflow import keras\n",
        "import _my_tools as mt\n",
        "import numpy as np\n",
        "import os\n",
        "\n",
        "def compareRes(i,folder=None):\n",
        "    mt.showImg(str(i).zfill(2),X_test[i,:,:,0],y_test[i,:,:,0],res[i,:,:,0],X_test[i,:,:,1],folder=folder)"
      ],
      "execution_count": 1,
      "outputs": [
        {
          "output_type": "error",
          "ename": "ModuleNotFoundError",
          "evalue": "ignored",
          "traceback": [
            "\u001b[0;31m---------------------------------------------------------------------------\u001b[0m",
            "\u001b[0;31mModuleNotFoundError\u001b[0m                       Traceback (most recent call last)",
            "\u001b[0;32m<ipython-input-1-3ae37bea152c>\u001b[0m in \u001b[0;36m<module>\u001b[0;34m()\u001b[0m\n\u001b[1;32m      1\u001b[0m \u001b[0;32mimport\u001b[0m \u001b[0mtensorflow\u001b[0m \u001b[0;32mas\u001b[0m \u001b[0mtf\u001b[0m\u001b[0;34m\u001b[0m\u001b[0;34m\u001b[0m\u001b[0m\n\u001b[1;32m      2\u001b[0m \u001b[0;32mfrom\u001b[0m \u001b[0mtensorflow\u001b[0m \u001b[0;32mimport\u001b[0m \u001b[0mkeras\u001b[0m\u001b[0;34m\u001b[0m\u001b[0;34m\u001b[0m\u001b[0m\n\u001b[0;32m----> 3\u001b[0;31m \u001b[0;32mimport\u001b[0m \u001b[0m_my_tools\u001b[0m \u001b[0;32mas\u001b[0m \u001b[0mmt\u001b[0m\u001b[0;34m\u001b[0m\u001b[0;34m\u001b[0m\u001b[0m\n\u001b[0m\u001b[1;32m      4\u001b[0m \u001b[0;32mimport\u001b[0m \u001b[0mnumpy\u001b[0m \u001b[0;32mas\u001b[0m \u001b[0mnp\u001b[0m\u001b[0;34m\u001b[0m\u001b[0;34m\u001b[0m\u001b[0m\n\u001b[1;32m      5\u001b[0m \u001b[0;32mimport\u001b[0m \u001b[0mos\u001b[0m\u001b[0;34m\u001b[0m\u001b[0;34m\u001b[0m\u001b[0m\n",
            "\u001b[0;31mModuleNotFoundError\u001b[0m: No module named '_my_tools'",
            "",
            "\u001b[0;31m---------------------------------------------------------------------------\u001b[0;32m\nNOTE: If your import is failing due to a missing package, you can\nmanually install dependencies using either !pip or !apt.\n\nTo view examples of installing some common dependencies, click the\n\"Open Examples\" button below.\n\u001b[0;31m---------------------------------------------------------------------------\u001b[0m\n"
          ]
        }
      ]
    },
    {
      "metadata": {
        "id": "bAsi6OhYjuWo",
        "colab_type": "text"
      },
      "cell_type": "markdown",
      "source": [
        ""
      ]
    },
    {
      "metadata": {
        "id": "xR9WgFVeji05",
        "colab_type": "code",
        "colab": {}
      },
      "cell_type": "code",
      "source": [
        "X_train, y_train, X_test, y_test = mt.loadDataFloat(\"dataset_interpolation/\")\n",
        "\n",
        "X_train = X_train.swapaxes(1,3)\n",
        "X_train = X_train.swapaxes(1,2)\n",
        "X_test = X_test.swapaxes(1,3)\n",
        "X_test = X_test.swapaxes(1,2)\n",
        "\n",
        "y_train = np.expand_dims(y_train,3)\n",
        "y_test = np.expand_dims(y_test,3)"
      ],
      "execution_count": 0,
      "outputs": []
    },
    {
      "metadata": {
        "id": "xt9S_ThMji08",
        "colab_type": "text"
      },
      "cell_type": "markdown",
      "source": [
        "### CNN model 1\n",
        "The simplest autoencoder - autodecoder net."
      ]
    },
    {
      "metadata": {
        "id": "hjGSLqDTji09",
        "colab_type": "code",
        "colab": {}
      },
      "cell_type": "code",
      "source": [
        "input_img = keras.layers.Input((64,64,2))\n",
        "\n",
        "m = keras.layers.Conv2D(8,(3,3),activation='relu',padding='same')(input_img)\n",
        "m = keras.layers.MaxPooling2D((2,2),padding='same')(m)\n",
        "m = keras.layers.Conv2D(16,(3,3),activation='relu',padding='same')(m)\n",
        "m = keras.layers.MaxPooling2D((2,2),padding='same')(m)\n",
        "m = keras.layers.Conv2D(32,(3,3),activation='relu',padding='same')(m)\n",
        "m = keras.layers.MaxPooling2D((2,2),padding='same')(m)\n",
        "m = keras.layers.Conv2D(64,(3,3),activation='relu',padding='same')(m)\n",
        "m = keras.layers.MaxPooling2D((2,2),padding='same')(m)\n",
        "m = keras.layers.Conv2D(128,(3,3),activation='relu',padding='same')(m)\n",
        "encoded = keras.layers.MaxPooling2D((2,2),padding='same')(m)\n",
        "\n",
        "m = keras.layers.Conv2D(64,(3,3),activation='relu',padding='same')(encoded)\n",
        "m = keras.layers.UpSampling2D((2,2))(m)\n",
        "m = keras.layers.Conv2D(32,(3,3),activation='relu',padding='same')(m)\n",
        "m = keras.layers.UpSampling2D((2,2))(m)\n",
        "m = keras.layers.Conv2D(16,(3,3),activation='relu',padding='same')(m)\n",
        "m = keras.layers.UpSampling2D((2,2))(m)\n",
        "m = keras.layers.Conv2D(8,(3,3),activation='relu',padding='same')(m)\n",
        "m = keras.layers.UpSampling2D((2,2))(m)\n",
        "m = keras.layers.Conv2D(4,(3,3),activation='relu',padding='same')(m)\n",
        "\n",
        "m = keras.layers.UpSampling2D((2,2))(m)\n",
        "decoded = keras.layers.Conv2D(1,(3,3),activation='relu',padding='same')(m)\n",
        "\n",
        "autoencoder = keras.Model(input_img, decoded)\n",
        "autoencoder.compile(optimizer='adadelta', loss='binary_crossentropy')"
      ],
      "execution_count": 0,
      "outputs": []
    },
    {
      "metadata": {
        "id": "pRdZtuuMji1A",
        "colab_type": "code",
        "colab": {},
        "outputId": "19bfeca9-7942-4dc9-c90a-b8d87375c229"
      },
      "cell_type": "code",
      "source": [
        "autoencoder.summary()"
      ],
      "execution_count": 0,
      "outputs": [
        {
          "output_type": "stream",
          "text": [
            "_________________________________________________________________\n",
            "Layer (type)                 Output Shape              Param #   \n",
            "=================================================================\n",
            "input_2 (InputLayer)         (None, 64, 64, 2)         0         \n",
            "_________________________________________________________________\n",
            "conv2d_11 (Conv2D)           (None, 64, 64, 8)         152       \n",
            "_________________________________________________________________\n",
            "max_pooling2d_5 (MaxPooling2 (None, 32, 32, 8)         0         \n",
            "_________________________________________________________________\n",
            "conv2d_12 (Conv2D)           (None, 32, 32, 16)        1168      \n",
            "_________________________________________________________________\n",
            "max_pooling2d_6 (MaxPooling2 (None, 16, 16, 16)        0         \n",
            "_________________________________________________________________\n",
            "conv2d_13 (Conv2D)           (None, 16, 16, 32)        4640      \n",
            "_________________________________________________________________\n",
            "max_pooling2d_7 (MaxPooling2 (None, 8, 8, 32)          0         \n",
            "_________________________________________________________________\n",
            "conv2d_14 (Conv2D)           (None, 8, 8, 64)          18496     \n",
            "_________________________________________________________________\n",
            "max_pooling2d_8 (MaxPooling2 (None, 4, 4, 64)          0         \n",
            "_________________________________________________________________\n",
            "conv2d_15 (Conv2D)           (None, 4, 4, 128)         73856     \n",
            "_________________________________________________________________\n",
            "max_pooling2d_9 (MaxPooling2 (None, 2, 2, 128)         0         \n",
            "_________________________________________________________________\n",
            "conv2d_16 (Conv2D)           (None, 2, 2, 64)          73792     \n",
            "_________________________________________________________________\n",
            "up_sampling2d_5 (UpSampling2 (None, 4, 4, 64)          0         \n",
            "_________________________________________________________________\n",
            "conv2d_17 (Conv2D)           (None, 4, 4, 32)          18464     \n",
            "_________________________________________________________________\n",
            "up_sampling2d_6 (UpSampling2 (None, 8, 8, 32)          0         \n",
            "_________________________________________________________________\n",
            "conv2d_18 (Conv2D)           (None, 8, 8, 16)          4624      \n",
            "_________________________________________________________________\n",
            "up_sampling2d_7 (UpSampling2 (None, 16, 16, 16)        0         \n",
            "_________________________________________________________________\n",
            "conv2d_19 (Conv2D)           (None, 16, 16, 8)         1160      \n",
            "_________________________________________________________________\n",
            "up_sampling2d_8 (UpSampling2 (None, 32, 32, 8)         0         \n",
            "_________________________________________________________________\n",
            "conv2d_20 (Conv2D)           (None, 32, 32, 4)         292       \n",
            "_________________________________________________________________\n",
            "up_sampling2d_9 (UpSampling2 (None, 64, 64, 4)         0         \n",
            "_________________________________________________________________\n",
            "conv2d_21 (Conv2D)           (None, 64, 64, 1)         37        \n",
            "=================================================================\n",
            "Total params: 196,681\n",
            "Trainable params: 196,681\n",
            "Non-trainable params: 0\n",
            "_________________________________________________________________\n"
          ],
          "name": "stdout"
        }
      ]
    },
    {
      "metadata": {
        "id": "bWF_Yw7Rji1G",
        "colab_type": "code",
        "colab": {},
        "outputId": "e1ec5900-e3a0-45f0-973a-233e870b1dea"
      },
      "cell_type": "code",
      "source": [
        "checkpoint_path = \"07/cp2\"\n",
        "cp_callback = keras.callbacks.ModelCheckpoint(checkpoint_path,\n",
        "                                             save_weights_only=True,\n",
        "                                             verbose=1)\n",
        "\n",
        "batch_size = 8\n",
        "num_epoch = 1\n",
        "#model training\n",
        "model_log = autoencoder.fit(X_train, y_train,\n",
        "          batch_size=batch_size,\n",
        "          epochs=num_epoch,\n",
        "          verbose=1,          \n",
        "          validation_data=(X_test, y_test),\n",
        "          callbacks = [cp_callback])"
      ],
      "execution_count": 0,
      "outputs": [
        {
          "output_type": "stream",
          "text": [
            "Train on 63324 samples, validate on 15831 samples\n",
            "Epoch 1/1\n",
            "63312/63324 [============================>.] - ETA: 0s - loss: 1.8349\n",
            "Epoch 00001: saving model to 07/cp2\n",
            "WARNING:tensorflow:This model was compiled with a Keras optimizer (<tensorflow.python.keras.optimizers.Adadelta object at 0x7f42df5e1fd0>) but is being saved in TensorFlow format with `save_weights`. The model's weights will be saved, but unlike with TensorFlow optimizers in the TensorFlow format the optimizer's state will not be saved.\n",
            "\n",
            "Consider using a TensorFlow optimizer from `tf.train`.\n",
            "63324/63324 [==============================] - 350s 6ms/step - loss: 1.8348 - val_loss: 1.7093\n"
          ],
          "name": "stdout"
        }
      ]
    },
    {
      "metadata": {
        "id": "guFuganBji1K",
        "colab_type": "code",
        "colab": {},
        "outputId": "85a2920a-8c12-47e0-9dfa-203dc2179c48"
      },
      "cell_type": "code",
      "source": [
        "autoencoder.load_weights(\"07/cp2\")"
      ],
      "execution_count": 0,
      "outputs": [
        {
          "output_type": "execute_result",
          "data": {
            "text/plain": [
              "<tensorflow.python.training.checkpointable.util.CheckpointLoadStatus at 0x7f0f6811f6a0>"
            ]
          },
          "metadata": {
            "tags": []
          },
          "execution_count": 15
        }
      ]
    },
    {
      "metadata": {
        "id": "a7fixfQkji1N",
        "colab_type": "code",
        "colab": {}
      },
      "cell_type": "code",
      "source": [
        "res = autoencoder.predict(X_test[:50])\n",
        "\n",
        "for i in range(30):\n",
        "    compareRes(i,folder=None)"
      ],
      "execution_count": 0,
      "outputs": []
    },
    {
      "metadata": {
        "id": "Q8fZ6EHIji1V",
        "colab_type": "text"
      },
      "cell_type": "markdown",
      "source": [
        "### CNN model 2\n",
        "Same as before with a fully connected layer at the end."
      ]
    },
    {
      "metadata": {
        "id": "G-Ka5kx9ji1W",
        "colab_type": "code",
        "colab": {}
      },
      "cell_type": "code",
      "source": [
        "input_img = keras.layers.Input((64,64,2))\n",
        "\n",
        "m = keras.layers.Conv2D(8,(3,3),activation='relu',padding='same')(input_img)\n",
        "m = keras.layers.MaxPooling2D((2,2),padding='same')(m)\n",
        "m = keras.layers.Conv2D(16,(3,3),activation='relu',padding='same')(m)\n",
        "m = keras.layers.MaxPooling2D((2,2),padding='same')(m)\n",
        "m = keras.layers.Conv2D(32,(3,3),activation='relu',padding='same')(m)\n",
        "m = keras.layers.MaxPooling2D((2,2),padding='same')(m)\n",
        "m = keras.layers.Conv2D(64,(3,3),activation='relu',padding='same')(m)\n",
        "m = keras.layers.MaxPooling2D((2,2),padding='same')(m)\n",
        "m = keras.layers.Conv2D(128,(3,3),activation='relu',padding='same')(m)\n",
        "encoded = keras.layers.MaxPooling2D((2,2),padding='same')(m)\n",
        "\n",
        "m = keras.layers.Conv2D(64,(3,3),activation='relu',padding='same')(encoded)\n",
        "m = keras.layers.UpSampling2D((2,2))(m)\n",
        "m = keras.layers.Conv2D(32,(3,3),activation='relu',padding='same')(m)\n",
        "m = keras.layers.UpSampling2D((2,2))(m)\n",
        "m = keras.layers.Conv2D(16,(3,3),activation='relu',padding='same')(m)\n",
        "m = keras.layers.UpSampling2D((2,2))(m)\n",
        "m = keras.layers.Conv2D(8,(3,3),activation='relu',padding='same')(m)\n",
        "m = keras.layers.UpSampling2D((2,2))(m)\n",
        "m = keras.layers.Conv2D(4,(3,3),activation='relu',padding='same')(m)\n",
        "\n",
        "m = keras.layers.UpSampling2D((2,2))(m)\n",
        "decoded = keras.layers.Conv2D(1,(3,3),activation='relu',padding='same')(m)\n",
        "\n",
        "a = keras.layers.Flatten()(decoded)\n",
        "a = keras.layers.Dense(4096,activation='sigmoid')(a)\n",
        "a = keras.layers.Reshape((64,64,1))(a)\n",
        "\n",
        "\n",
        "autoencoder = keras.Model(input_img, a)\n",
        "autoencoder.compile(optimizer='adadelta', loss='binary_crossentropy')"
      ],
      "execution_count": 0,
      "outputs": []
    },
    {
      "metadata": {
        "id": "HfeShQ9fji1Z",
        "colab_type": "code",
        "colab": {},
        "outputId": "57164dac-11af-4b56-aa88-e77b138ba3a3"
      },
      "cell_type": "code",
      "source": [
        "autoencoder.summary()"
      ],
      "execution_count": 0,
      "outputs": [
        {
          "output_type": "stream",
          "text": [
            "_________________________________________________________________\n",
            "Layer (type)                 Output Shape              Param #   \n",
            "=================================================================\n",
            "input_5 (InputLayer)         (None, 64, 64, 2)         0         \n",
            "_________________________________________________________________\n",
            "conv2d_43 (Conv2D)           (None, 64, 64, 8)         152       \n",
            "_________________________________________________________________\n",
            "max_pooling2d_20 (MaxPooling (None, 32, 32, 8)         0         \n",
            "_________________________________________________________________\n",
            "conv2d_44 (Conv2D)           (None, 32, 32, 16)        1168      \n",
            "_________________________________________________________________\n",
            "max_pooling2d_21 (MaxPooling (None, 16, 16, 16)        0         \n",
            "_________________________________________________________________\n",
            "conv2d_45 (Conv2D)           (None, 16, 16, 32)        4640      \n",
            "_________________________________________________________________\n",
            "max_pooling2d_22 (MaxPooling (None, 8, 8, 32)          0         \n",
            "_________________________________________________________________\n",
            "conv2d_46 (Conv2D)           (None, 8, 8, 64)          18496     \n",
            "_________________________________________________________________\n",
            "max_pooling2d_23 (MaxPooling (None, 4, 4, 64)          0         \n",
            "_________________________________________________________________\n",
            "conv2d_47 (Conv2D)           (None, 4, 4, 128)         73856     \n",
            "_________________________________________________________________\n",
            "max_pooling2d_24 (MaxPooling (None, 2, 2, 128)         0         \n",
            "_________________________________________________________________\n",
            "conv2d_48 (Conv2D)           (None, 2, 2, 64)          73792     \n",
            "_________________________________________________________________\n",
            "up_sampling2d_20 (UpSampling (None, 4, 4, 64)          0         \n",
            "_________________________________________________________________\n",
            "conv2d_49 (Conv2D)           (None, 4, 4, 32)          18464     \n",
            "_________________________________________________________________\n",
            "up_sampling2d_21 (UpSampling (None, 8, 8, 32)          0         \n",
            "_________________________________________________________________\n",
            "conv2d_50 (Conv2D)           (None, 8, 8, 16)          4624      \n",
            "_________________________________________________________________\n",
            "up_sampling2d_22 (UpSampling (None, 16, 16, 16)        0         \n",
            "_________________________________________________________________\n",
            "conv2d_51 (Conv2D)           (None, 16, 16, 8)         1160      \n",
            "_________________________________________________________________\n",
            "up_sampling2d_23 (UpSampling (None, 32, 32, 8)         0         \n",
            "_________________________________________________________________\n",
            "conv2d_52 (Conv2D)           (None, 32, 32, 4)         292       \n",
            "_________________________________________________________________\n",
            "up_sampling2d_24 (UpSampling (None, 64, 64, 4)         0         \n",
            "_________________________________________________________________\n",
            "conv2d_53 (Conv2D)           (None, 64, 64, 1)         37        \n",
            "_________________________________________________________________\n",
            "flatten (Flatten)            (None, 4096)              0         \n",
            "_________________________________________________________________\n",
            "dense (Dense)                (None, 4096)              16781312  \n",
            "_________________________________________________________________\n",
            "reshape (Reshape)            (None, 64, 64, 1)         0         \n",
            "=================================================================\n",
            "Total params: 16,977,993\n",
            "Trainable params: 16,977,993\n",
            "Non-trainable params: 0\n",
            "_________________________________________________________________\n"
          ],
          "name": "stdout"
        }
      ]
    },
    {
      "metadata": {
        "id": "k52e_Sduji1d",
        "colab_type": "code",
        "colab": {},
        "outputId": "2ca937bd-4eac-4d14-f744-1b024ea63506"
      },
      "cell_type": "code",
      "source": [
        "checkpoint_path = \"07/cp4\"\n",
        "cp_callback = keras.callbacks.ModelCheckpoint(checkpoint_path,\n",
        "                                             save_weights_only=True,\n",
        "                                             verbose=1)\n",
        "\n",
        "batch_size = 8\n",
        "num_epoch = 1\n",
        "#model training\n",
        "model_log = autoencoder.fit(X_train, y_train,\n",
        "          batch_size=batch_size,\n",
        "          epochs=num_epoch,\n",
        "          verbose=1,          \n",
        "          validation_data=(X_test, y_test),\n",
        "          callbacks = [cp_callback])"
      ],
      "execution_count": 0,
      "outputs": [
        {
          "output_type": "stream",
          "text": [
            "Train on 63324 samples, validate on 15831 samples\n",
            "Epoch 1/1\n",
            "63320/63324 [============================>.] - ETA: 0s - loss: 1.7245\n",
            "Epoch 00001: saving model to 07/cp4\n",
            "WARNING:tensorflow:This model was compiled with a Keras optimizer (<tensorflow.python.keras.optimizers.Adadelta object at 0x7f4938e23d68>) but is being saved in TensorFlow format with `save_weights`. The model's weights will be saved, but unlike with TensorFlow optimizers in the TensorFlow format the optimizer's state will not be saved.\n",
            "\n",
            "Consider using a TensorFlow optimizer from `tf.train`.\n",
            "63324/63324 [==============================] - 2337s 37ms/step - loss: 1.7245 - val_loss: 1.7118\n"
          ],
          "name": "stdout"
        }
      ]
    },
    {
      "metadata": {
        "id": "374Wz57sji1g",
        "colab_type": "code",
        "colab": {},
        "outputId": "8c9dee7f-5004-42f1-bdc1-85d1f3b70830"
      },
      "cell_type": "code",
      "source": [
        " autoencoder.load_weights(\"07/cp4\")"
      ],
      "execution_count": 0,
      "outputs": [
        {
          "output_type": "execute_result",
          "data": {
            "text/plain": [
              "<tensorflow.python.training.checkpointable.util.CheckpointLoadStatus at 0x7f42dea27e48>"
            ]
          },
          "metadata": {
            "tags": []
          },
          "execution_count": 24
        }
      ]
    },
    {
      "metadata": {
        "id": "Icwr3CXNji1k",
        "colab_type": "code",
        "colab": {}
      },
      "cell_type": "code",
      "source": [
        "res = autoencoder.predict(X_test[0:30])\n",
        "\n",
        "for i in range(30):\n",
        "    compareRes(i,folder=None)"
      ],
      "execution_count": 0,
      "outputs": []
    },
    {
      "metadata": {
        "id": "3gp6CsIdji1n",
        "colab_type": "code",
        "colab": {}
      },
      "cell_type": "code",
      "source": [
        ""
      ],
      "execution_count": 0,
      "outputs": []
    }
  ]
}