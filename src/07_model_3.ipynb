{
 "cells": [
  {
   "cell_type": "code",
   "execution_count": 2,
   "metadata": {},
   "outputs": [],
   "source": [
    "import tensorflow as tf\n",
    "from tensorflow import keras\n",
    "import _my_tools as mt\n",
    "import numpy as np\n",
    "import os\n",
    "\n",
    "def compareRes(i,folder=None):\n",
    "    mt.showImg(str(i).zfill(2),X_test[i,:,:,0],y_test[i,:,:,0],res[i,:,:,0],X_test[i,:,:,1],folder=folder)"
   ]
  },
  {
   "cell_type": "code",
   "execution_count": 3,
   "metadata": {},
   "outputs": [],
   "source": [
    "X_train, y_train, X_test, y_test = mt.loadDataFloat()\n",
    "\n",
    "X_train = X_train.swapaxes(1,3)\n",
    "X_train = X_train.swapaxes(1,2)\n",
    "X_test = X_test.swapaxes(1,3)\n",
    "X_test = X_test.swapaxes(1,2)\n",
    "\n",
    "y_train = np.expand_dims(y_train,3)\n",
    "y_test = np.expand_dims(y_test,3)"
   ]
  },
  {
   "cell_type": "markdown",
   "metadata": {},
   "source": [
    "### CNN model 1"
   ]
  },
  {
   "cell_type": "code",
   "execution_count": 3,
   "metadata": {},
   "outputs": [],
   "source": [
    "input_img = keras.layers.Input((64,64,2))\n",
    "\n",
    "m = keras.layers.Conv2D(8,(3,3),activation='relu',padding='same')(input_img)\n",
    "m = keras.layers.MaxPooling2D((2,2),padding='same')(m)\n",
    "m = keras.layers.Conv2D(16,(3,3),activation='relu',padding='same')(m)\n",
    "m = keras.layers.MaxPooling2D((2,2),padding='same')(m)\n",
    "m = keras.layers.Conv2D(32,(3,3),activation='relu',padding='same')(m)\n",
    "m = keras.layers.MaxPooling2D((2,2),padding='same')(m)\n",
    "m = keras.layers.Conv2D(64,(3,3),activation='relu',padding='same')(m)\n",
    "m = keras.layers.MaxPooling2D((2,2),padding='same')(m)\n",
    "m = keras.layers.Conv2D(128,(3,3),activation='relu',padding='same')(m)\n",
    "encoded = keras.layers.MaxPooling2D((2,2),padding='same')(m)\n",
    "\n",
    "m = keras.layers.Conv2D(64,(3,3),activation='relu',padding='same')(encoded)\n",
    "m = keras.layers.UpSampling2D((2,2))(m)\n",
    "m = keras.layers.Conv2D(32,(3,3),activation='relu',padding='same')(m)\n",
    "m = keras.layers.UpSampling2D((2,2))(m)\n",
    "m = keras.layers.Conv2D(16,(3,3),activation='relu',padding='same')(m)\n",
    "m = keras.layers.UpSampling2D((2,2))(m)\n",
    "m = keras.layers.Conv2D(8,(3,3),activation='relu',padding='same')(m)\n",
    "m = keras.layers.UpSampling2D((2,2))(m)\n",
    "m = keras.layers.Conv2D(4,(3,3),activation='relu',padding='same')(m)\n",
    "\n",
    "m = keras.layers.UpSampling2D((2,2))(m)\n",
    "decoded = keras.layers.Conv2D(1,(3,3),activation='relu',padding='same')(m)\n",
    "\n",
    "autoencoder = keras.Model(input_img, decoded)\n",
    "autoencoder.compile(optimizer='adadelta', loss='binary_crossentropy')"
   ]
  },
  {
   "cell_type": "code",
   "execution_count": 4,
   "metadata": {},
   "outputs": [
    {
     "name": "stdout",
     "output_type": "stream",
     "text": [
      "_________________________________________________________________\n",
      "Layer (type)                 Output Shape              Param #   \n",
      "=================================================================\n",
      "input_1 (InputLayer)         (None, 64, 64, 2)         0         \n",
      "_________________________________________________________________\n",
      "conv2d (Conv2D)              (None, 64, 64, 8)         152       \n",
      "_________________________________________________________________\n",
      "max_pooling2d (MaxPooling2D) (None, 32, 32, 8)         0         \n",
      "_________________________________________________________________\n",
      "conv2d_1 (Conv2D)            (None, 32, 32, 16)        1168      \n",
      "_________________________________________________________________\n",
      "max_pooling2d_1 (MaxPooling2 (None, 16, 16, 16)        0         \n",
      "_________________________________________________________________\n",
      "conv2d_2 (Conv2D)            (None, 16, 16, 32)        4640      \n",
      "_________________________________________________________________\n",
      "max_pooling2d_2 (MaxPooling2 (None, 8, 8, 32)          0         \n",
      "_________________________________________________________________\n",
      "conv2d_3 (Conv2D)            (None, 8, 8, 64)          18496     \n",
      "_________________________________________________________________\n",
      "max_pooling2d_3 (MaxPooling2 (None, 4, 4, 64)          0         \n",
      "_________________________________________________________________\n",
      "conv2d_4 (Conv2D)            (None, 4, 4, 128)         73856     \n",
      "_________________________________________________________________\n",
      "max_pooling2d_4 (MaxPooling2 (None, 2, 2, 128)         0         \n",
      "_________________________________________________________________\n",
      "conv2d_5 (Conv2D)            (None, 2, 2, 64)          73792     \n",
      "_________________________________________________________________\n",
      "up_sampling2d (UpSampling2D) (None, 4, 4, 64)          0         \n",
      "_________________________________________________________________\n",
      "conv2d_6 (Conv2D)            (None, 4, 4, 32)          18464     \n",
      "_________________________________________________________________\n",
      "up_sampling2d_1 (UpSampling2 (None, 8, 8, 32)          0         \n",
      "_________________________________________________________________\n",
      "conv2d_7 (Conv2D)            (None, 8, 8, 16)          4624      \n",
      "_________________________________________________________________\n",
      "up_sampling2d_2 (UpSampling2 (None, 16, 16, 16)        0         \n",
      "_________________________________________________________________\n",
      "conv2d_8 (Conv2D)            (None, 16, 16, 8)         1160      \n",
      "_________________________________________________________________\n",
      "up_sampling2d_3 (UpSampling2 (None, 32, 32, 8)         0         \n",
      "_________________________________________________________________\n",
      "conv2d_9 (Conv2D)            (None, 32, 32, 4)         292       \n",
      "_________________________________________________________________\n",
      "up_sampling2d_4 (UpSampling2 (None, 64, 64, 4)         0         \n",
      "_________________________________________________________________\n",
      "conv2d_10 (Conv2D)           (None, 64, 64, 1)         37        \n",
      "=================================================================\n",
      "Total params: 196,681\n",
      "Trainable params: 196,681\n",
      "Non-trainable params: 0\n",
      "_________________________________________________________________\n"
     ]
    }
   ],
   "source": [
    "autoencoder.summary()"
   ]
  },
  {
   "cell_type": "code",
   "execution_count": 16,
   "metadata": {},
   "outputs": [
    {
     "name": "stdout",
     "output_type": "stream",
     "text": [
      "Train on 63324 samples, validate on 15831 samples\n",
      "Epoch 1/1\n",
      "63312/63324 [============================>.] - ETA: 0s - loss: 1.8349\n",
      "Epoch 00001: saving model to 07/cp2\n",
      "WARNING:tensorflow:This model was compiled with a Keras optimizer (<tensorflow.python.keras.optimizers.Adadelta object at 0x7f42df5e1fd0>) but is being saved in TensorFlow format with `save_weights`. The model's weights will be saved, but unlike with TensorFlow optimizers in the TensorFlow format the optimizer's state will not be saved.\n",
      "\n",
      "Consider using a TensorFlow optimizer from `tf.train`.\n",
      "63324/63324 [==============================] - 350s 6ms/step - loss: 1.8348 - val_loss: 1.7093\n"
     ]
    }
   ],
   "source": [
    "checkpoint_path = \"07/cp2\"\n",
    "cp_callback = keras.callbacks.ModelCheckpoint(checkpoint_path,\n",
    "                                             save_weights_only=True,\n",
    "                                             verbose=1)\n",
    "\n",
    "batch_size = 8\n",
    "num_epoch = 1\n",
    "#model training\n",
    "model_log = autoencoder.fit(X_train, y_train,\n",
    "          batch_size=batch_size,\n",
    "          epochs=num_epoch,\n",
    "          verbose=1,          \n",
    "          validation_data=(X_test, y_test),\n",
    "          callbacks = [cp_callback])"
   ]
  },
  {
   "cell_type": "code",
   "execution_count": 19,
   "metadata": {},
   "outputs": [
    {
     "data": {
      "text/plain": [
       "<tensorflow.python.training.checkpointable.util.CheckpointLoadStatus at 0x7f42de7a19b0>"
      ]
     },
     "execution_count": 19,
     "metadata": {},
     "output_type": "execute_result"
    }
   ],
   "source": [
    "autoencoder.load_weights(\"07/cp2\")"
   ]
  },
  {
   "cell_type": "code",
   "execution_count": 20,
   "metadata": {},
   "outputs": [],
   "source": [
    "res = autoencoder.predict(X_test[:50])\n",
    "\n",
    "for i in range(30):\n",
    "    compareRes(i,folder=None)"
   ]
  },
  {
   "cell_type": "markdown",
   "metadata": {},
   "source": [
    "### CNN model 2"
   ]
  },
  {
   "cell_type": "code",
   "execution_count": 23,
   "metadata": {},
   "outputs": [],
   "source": [
    "input_img = keras.layers.Input((64,64,2))\n",
    "\n",
    "m = keras.layers.Conv2D(8,(3,3),activation='relu',padding='same')(input_img)\n",
    "m = keras.layers.MaxPooling2D((2,2),padding='same')(m)\n",
    "m = keras.layers.Conv2D(16,(3,3),activation='relu',padding='same')(m)\n",
    "m = keras.layers.MaxPooling2D((2,2),padding='same')(m)\n",
    "m = keras.layers.Conv2D(32,(3,3),activation='relu',padding='same')(m)\n",
    "m = keras.layers.MaxPooling2D((2,2),padding='same')(m)\n",
    "m = keras.layers.Conv2D(64,(3,3),activation='relu',padding='same')(m)\n",
    "m = keras.layers.MaxPooling2D((2,2),padding='same')(m)\n",
    "m = keras.layers.Conv2D(128,(3,3),activation='relu',padding='same')(m)\n",
    "encoded = keras.layers.MaxPooling2D((2,2),padding='same')(m)\n",
    "\n",
    "m = keras.layers.Conv2D(64,(3,3),activation='relu',padding='same')(encoded)\n",
    "m = keras.layers.UpSampling2D((2,2))(m)\n",
    "m = keras.layers.Conv2D(32,(3,3),activation='relu',padding='same')(m)\n",
    "m = keras.layers.UpSampling2D((2,2))(m)\n",
    "m = keras.layers.Conv2D(16,(3,3),activation='relu',padding='same')(m)\n",
    "m = keras.layers.UpSampling2D((2,2))(m)\n",
    "m = keras.layers.Conv2D(8,(3,3),activation='relu',padding='same')(m)\n",
    "m = keras.layers.UpSampling2D((2,2))(m)\n",
    "m = keras.layers.Conv2D(4,(3,3),activation='relu',padding='same')(m)\n",
    "\n",
    "m = keras.layers.UpSampling2D((2,2))(m)\n",
    "decoded = keras.layers.Conv2D(1,(3,3),activation='relu',padding='same')(m)\n",
    "\n",
    "a = keras.layers.Flatten()(decoded)\n",
    "a = keras.layers.Dense(4096,activation='sigmoid')(a)\n",
    "a = keras.layers.Reshape((64,64,1))(a)\n",
    "\n",
    "\n",
    "autoencoder = keras.Model(input_img, a)\n",
    "autoencoder.compile(optimizer='adadelta', loss='binary_crossentropy')"
   ]
  },
  {
   "cell_type": "code",
   "execution_count": 22,
   "metadata": {},
   "outputs": [
    {
     "name": "stdout",
     "output_type": "stream",
     "text": [
      "_________________________________________________________________\n",
      "Layer (type)                 Output Shape              Param #   \n",
      "=================================================================\n",
      "input_5 (InputLayer)         (None, 64, 64, 2)         0         \n",
      "_________________________________________________________________\n",
      "conv2d_43 (Conv2D)           (None, 64, 64, 8)         152       \n",
      "_________________________________________________________________\n",
      "max_pooling2d_20 (MaxPooling (None, 32, 32, 8)         0         \n",
      "_________________________________________________________________\n",
      "conv2d_44 (Conv2D)           (None, 32, 32, 16)        1168      \n",
      "_________________________________________________________________\n",
      "max_pooling2d_21 (MaxPooling (None, 16, 16, 16)        0         \n",
      "_________________________________________________________________\n",
      "conv2d_45 (Conv2D)           (None, 16, 16, 32)        4640      \n",
      "_________________________________________________________________\n",
      "max_pooling2d_22 (MaxPooling (None, 8, 8, 32)          0         \n",
      "_________________________________________________________________\n",
      "conv2d_46 (Conv2D)           (None, 8, 8, 64)          18496     \n",
      "_________________________________________________________________\n",
      "max_pooling2d_23 (MaxPooling (None, 4, 4, 64)          0         \n",
      "_________________________________________________________________\n",
      "conv2d_47 (Conv2D)           (None, 4, 4, 128)         73856     \n",
      "_________________________________________________________________\n",
      "max_pooling2d_24 (MaxPooling (None, 2, 2, 128)         0         \n",
      "_________________________________________________________________\n",
      "conv2d_48 (Conv2D)           (None, 2, 2, 64)          73792     \n",
      "_________________________________________________________________\n",
      "up_sampling2d_20 (UpSampling (None, 4, 4, 64)          0         \n",
      "_________________________________________________________________\n",
      "conv2d_49 (Conv2D)           (None, 4, 4, 32)          18464     \n",
      "_________________________________________________________________\n",
      "up_sampling2d_21 (UpSampling (None, 8, 8, 32)          0         \n",
      "_________________________________________________________________\n",
      "conv2d_50 (Conv2D)           (None, 8, 8, 16)          4624      \n",
      "_________________________________________________________________\n",
      "up_sampling2d_22 (UpSampling (None, 16, 16, 16)        0         \n",
      "_________________________________________________________________\n",
      "conv2d_51 (Conv2D)           (None, 16, 16, 8)         1160      \n",
      "_________________________________________________________________\n",
      "up_sampling2d_23 (UpSampling (None, 32, 32, 8)         0         \n",
      "_________________________________________________________________\n",
      "conv2d_52 (Conv2D)           (None, 32, 32, 4)         292       \n",
      "_________________________________________________________________\n",
      "up_sampling2d_24 (UpSampling (None, 64, 64, 4)         0         \n",
      "_________________________________________________________________\n",
      "conv2d_53 (Conv2D)           (None, 64, 64, 1)         37        \n",
      "_________________________________________________________________\n",
      "flatten (Flatten)            (None, 4096)              0         \n",
      "_________________________________________________________________\n",
      "dense (Dense)                (None, 4096)              16781312  \n",
      "_________________________________________________________________\n",
      "reshape (Reshape)            (None, 64, 64, 1)         0         \n",
      "=================================================================\n",
      "Total params: 16,977,993\n",
      "Trainable params: 16,977,993\n",
      "Non-trainable params: 0\n",
      "_________________________________________________________________\n"
     ]
    }
   ],
   "source": [
    "autoencoder.summary()"
   ]
  },
  {
   "cell_type": "code",
   "execution_count": 49,
   "metadata": {},
   "outputs": [
    {
     "name": "stdout",
     "output_type": "stream",
     "text": [
      "Train on 63324 samples, validate on 15831 samples\n",
      "Epoch 1/1\n",
      "63320/63324 [============================>.] - ETA: 0s - loss: 1.7245\n",
      "Epoch 00001: saving model to 07/cp4\n",
      "WARNING:tensorflow:This model was compiled with a Keras optimizer (<tensorflow.python.keras.optimizers.Adadelta object at 0x7f4938e23d68>) but is being saved in TensorFlow format with `save_weights`. The model's weights will be saved, but unlike with TensorFlow optimizers in the TensorFlow format the optimizer's state will not be saved.\n",
      "\n",
      "Consider using a TensorFlow optimizer from `tf.train`.\n",
      "63324/63324 [==============================] - 2337s 37ms/step - loss: 1.7245 - val_loss: 1.7118\n"
     ]
    }
   ],
   "source": [
    "checkpoint_path = \"07/cp4\"\n",
    "cp_callback = keras.callbacks.ModelCheckpoint(checkpoint_path,\n",
    "                                             save_weights_only=True,\n",
    "                                             verbose=1)\n",
    "\n",
    "batch_size = 8\n",
    "num_epoch = 1\n",
    "#model training\n",
    "model_log = autoencoder.fit(X_train, y_train,\n",
    "          batch_size=batch_size,\n",
    "          epochs=num_epoch,\n",
    "          verbose=1,          \n",
    "          validation_data=(X_test, y_test),\n",
    "          callbacks = [cp_callback])"
   ]
  },
  {
   "cell_type": "code",
   "execution_count": 24,
   "metadata": {},
   "outputs": [
    {
     "data": {
      "text/plain": [
       "<tensorflow.python.training.checkpointable.util.CheckpointLoadStatus at 0x7f42dea27e48>"
      ]
     },
     "execution_count": 24,
     "metadata": {},
     "output_type": "execute_result"
    }
   ],
   "source": [
    " autoencoder.load_weights(\"07/cp4\")"
   ]
  },
  {
   "cell_type": "code",
   "execution_count": 51,
   "metadata": {},
   "outputs": [],
   "source": [
    "autoencoder.save(\"07/m4.h5\")"
   ]
  },
  {
   "cell_type": "code",
   "execution_count": 26,
   "metadata": {},
   "outputs": [],
   "source": [
    "res = autoencoder.predict(X_test[0:30])\n",
    "\n",
    "for i in range(30):\n",
    "    compareRes(i,folder=\"07/02/\")"
   ]
  },
  {
   "cell_type": "code",
   "execution_count": null,
   "metadata": {},
   "outputs": [],
   "source": []
  }
 ],
 "metadata": {
  "kernelspec": {
   "display_name": "Python 3",
   "language": "python",
   "name": "python3"
  },
  "language_info": {
   "codemirror_mode": {
    "name": "ipython",
    "version": 3
   },
   "file_extension": ".py",
   "mimetype": "text/x-python",
   "name": "python",
   "nbconvert_exporter": "python",
   "pygments_lexer": "ipython3",
   "version": "3.5.3"
  },
  "toc": {
   "base_numbering": 1,
   "nav_menu": {},
   "number_sections": false,
   "sideBar": false,
   "skip_h1_title": false,
   "title_cell": "Table of Contents",
   "title_sidebar": "Contents",
   "toc_cell": false,
   "toc_position": {},
   "toc_section_display": false,
   "toc_window_display": false
  }
 },
 "nbformat": 4,
 "nbformat_minor": 2
}
