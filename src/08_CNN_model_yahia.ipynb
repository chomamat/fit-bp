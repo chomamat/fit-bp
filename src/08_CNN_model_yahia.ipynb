{
 "cells": [
  {
   "cell_type": "code",
   "execution_count": 1,
   "metadata": {},
   "outputs": [],
   "source": [
    "import tensorflow as tf\n",
    "from tensorflow import keras\n",
    "import _my_tools as mt\n",
    "import numpy as np\n",
    "import os\n",
    "\n",
    "def compareRes(i,folder=None):\n",
    "    mt.showImg(str(i).zfill(2),X_test[i,:,:,0],y_test[i,:,:,0],res[i,:,:,0],X_test[i,:,:,1],folder=folder)"
   ]
  },
  {
   "cell_type": "code",
   "execution_count": null,
   "metadata": {},
   "outputs": [],
   "source": [
    "input_img = keras.layers.Input((64,64,2))\n",
    "\n",
    "m = keras.layers.Conv2D(8,(3,3),activation='relu',padding='same')(input_img)\n",
    "m = keras.layers.MaxPooling2D((2,2),padding='same')(m)\n",
    "m = keras.layers.Conv2D(16,(3,3),activation='relu',padding='same')(m)\n",
    "m = keras.layers.MaxPooling2D((2,2),padding='same')(m)\n",
    "m = keras.layers.Conv2D(32,(3,3),activation='relu',padding='same')(m)\n",
    "m = keras.layers.MaxPooling2D((2,2),padding='same')(m)\n",
    "m = keras.layers.Conv2D(64,(3,3),activation='relu',padding='same')(m)\n",
    "m = keras.layers.MaxPooling2D((2,2),padding='same')(m)\n",
    "m = keras.layers.Conv2D(128,(3,3),activation='relu',padding='same')(m)\n",
    "encoded = keras.layers.MaxPooling2D((2,2),padding='same')(m)\n",
    "\n",
    "m = keras.layers.Conv2D(64,(3,3),activation='relu',padding='same')(encoded)\n",
    "m = keras.layers.UpSampling2D((2,2))(m)\n",
    "m = keras.layers.Conv2D(32,(3,3),activation='relu',padding='same')(m)\n",
    "m = keras.layers.UpSampling2D((2,2))(m)\n",
    "m = keras.layers.Conv2D(16,(3,3),activation='relu',padding='same')(m)\n",
    "m = keras.layers.UpSampling2D((2,2))(m)\n",
    "m = keras.layers.Conv2D(8,(3,3),activation='relu',padding='same')(m)\n",
    "m = keras.layers.UpSampling2D((2,2))(m)\n",
    "m = keras.layers.Conv2D(4,(3,3),activation='relu',padding='same')(m)\n",
    "\n",
    "m = keras.layers.UpSampling2D((2,2))(m)\n",
    "decoded = keras.layers.Conv2D(1,(3,3),activation='relu',padding='same')(m)\n",
    "\n",
    "autoencoder = keras.Model(input_img, decoded)\n",
    "autoencoder.compile(optimizer='adadelta', loss='binary_crossentropy')"
   ]
  }
 ],
 "metadata": {
  "kernelspec": {
   "display_name": "Python 3",
   "language": "python",
   "name": "python3"
  },
  "language_info": {
   "codemirror_mode": {
    "name": "ipython",
    "version": 3
   },
   "file_extension": ".py",
   "mimetype": "text/x-python",
   "name": "python",
   "nbconvert_exporter": "python",
   "pygments_lexer": "ipython3",
   "version": "3.5.3"
  },
  "toc": {
   "base_numbering": 1,
   "nav_menu": {},
   "number_sections": false,
   "sideBar": false,
   "skip_h1_title": false,
   "title_cell": "Table of Contents",
   "title_sidebar": "Contents",
   "toc_cell": false,
   "toc_position": {},
   "toc_section_display": false,
   "toc_window_display": false
  }
 },
 "nbformat": 4,
 "nbformat_minor": 2
}
