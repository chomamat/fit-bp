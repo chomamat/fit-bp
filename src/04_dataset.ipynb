{
 "cells": [
  {
   "cell_type": "code",
   "execution_count": 1,
   "metadata": {},
   "outputs": [],
   "source": [
    "import _dataset_tools as dt\n",
    "import _my_tools as mt\n",
    "import cv2 as cv\n",
    "import numpy as np\n",
    "import os"
   ]
  },
  {
   "cell_type": "markdown",
   "metadata": {},
   "source": [
    "### Image cropping\n",
    "All of the grayscale radar images from folder `datasets/dataset_full/` are taken and squares of size $96\\times96$ are cropped from them with a stride of size $48$. The cropped squares are saved in `datasets/cropped_96_96/` in folder according to the square's coordinates."
   ]
  },
  {
   "cell_type": "code",
   "execution_count": null,
   "metadata": {},
   "outputs": [],
   "source": [
    "out_f = \"datasets/cropped_96_96/\"\n",
    "in_f = \"datasets/dataset_full/\"\n",
    "\n",
    "for f in range(55):\n",
    "    os.mkdir(out_f+str(f).zfill(2))"
   ]
  },
  {
   "cell_type": "code",
   "execution_count": null,
   "metadata": {},
   "outputs": [],
   "source": [
    "dt.cropFolder(in_f,out_f,96,48)"
   ]
  },
  {
   "cell_type": "markdown",
   "metadata": {},
   "source": [
    "### Cleaning and Triplets finding\n",
    "All images from every folder of `datasets/cropped_96_96/` are taken, and images that have more than $95\\%$ of the area without precipitation or have only precipitation of level $1$ (of $16$) are deleted. The previous images may also be removed so that there are in the end always left three consecutive images."
   ]
  },
  {
   "cell_type": "code",
   "execution_count": null,
   "metadata": {},
   "outputs": [],
   "source": [
    "in_f = \"datasets/cropped_96_96/\"\n",
    "for folder in sorted(os.listdir(in_f)):\n",
    "    dt.findTriplets(in_f+folder+\"/\")"
   ]
  },
  {
   "cell_type": "markdown",
   "metadata": {},
   "source": [
    "### Loading to NumPy array"
   ]
  },
  {
   "cell_type": "code",
   "execution_count": 2,
   "metadata": {},
   "outputs": [
    {
     "name": "stdout",
     "output_type": "stream",
     "text": [
      "(2947, 2, 96, 96)  :  (2947, 96, 96)\n",
      "Processing folder  datasets/cropped_96_96/ 01\n",
      "(6330, 2, 96, 96)  :  (6330, 96, 96)\n",
      "Processing folder  datasets/cropped_96_96/ 02\n",
      "(9846, 2, 96, 96)  :  (9846, 96, 96)\n",
      "Processing folder  datasets/cropped_96_96/ 03\n",
      "(13259, 2, 96, 96)  :  (13259, 96, 96)\n",
      "Processing folder  datasets/cropped_96_96/ 04\n",
      "(16664, 2, 96, 96)  :  (16664, 96, 96)\n",
      "Processing folder  datasets/cropped_96_96/ 05\n",
      "(20039, 2, 96, 96)  :  (20039, 96, 96)\n",
      "Processing folder  datasets/cropped_96_96/ 06\n",
      "(23461, 2, 96, 96)  :  (23461, 96, 96)\n",
      "Processing folder  datasets/cropped_96_96/ 07\n",
      "(26920, 2, 96, 96)  :  (26920, 96, 96)\n",
      "Processing folder  datasets/cropped_96_96/ 08\n",
      "(30159, 2, 96, 96)  :  (30159, 96, 96)\n",
      "Processing folder  datasets/cropped_96_96/ 09\n",
      "(33077, 2, 96, 96)  :  (33077, 96, 96)\n",
      "Processing folder  datasets/cropped_96_96/ 10\n",
      "(35811, 2, 96, 96)  :  (35811, 96, 96)\n",
      "Processing folder  datasets/cropped_96_96/ 11\n",
      "(39244, 2, 96, 96)  :  (39244, 96, 96)\n",
      "Processing folder  datasets/cropped_96_96/ 12\n",
      "(43032, 2, 96, 96)  :  (43032, 96, 96)\n",
      "Processing folder  datasets/cropped_96_96/ 13\n",
      "(46933, 2, 96, 96)  :  (46933, 96, 96)\n",
      "Processing folder  datasets/cropped_96_96/ 14\n",
      "(50696, 2, 96, 96)  :  (50696, 96, 96)\n",
      "Processing folder  datasets/cropped_96_96/ 15\n",
      "(54456, 2, 96, 96)  :  (54456, 96, 96)\n",
      "Processing folder  datasets/cropped_96_96/ 16\n",
      "(58095, 2, 96, 96)  :  (58095, 96, 96)\n",
      "Processing folder  datasets/cropped_96_96/ 17\n",
      "(62003, 2, 96, 96)  :  (62003, 96, 96)\n",
      "Processing folder  datasets/cropped_96_96/ 18\n",
      "(66205, 2, 96, 96)  :  (66205, 96, 96)\n",
      "Processing folder  datasets/cropped_96_96/ 19\n",
      "(70292, 2, 96, 96)  :  (70292, 96, 96)\n",
      "Processing folder  datasets/cropped_96_96/ 20\n",
      "(74002, 2, 96, 96)  :  (74002, 96, 96)\n",
      "Processing folder  datasets/cropped_96_96/ 21\n",
      "(77451, 2, 96, 96)  :  (77451, 96, 96)\n",
      "Processing folder  datasets/cropped_96_96/ 22\n",
      "(81045, 2, 96, 96)  :  (81045, 96, 96)\n",
      "Processing folder  datasets/cropped_96_96/ 23\n",
      "(84939, 2, 96, 96)  :  (84939, 96, 96)\n",
      "Processing folder  datasets/cropped_96_96/ 24\n",
      "(89137, 2, 96, 96)  :  (89137, 96, 96)\n",
      "Processing folder  datasets/cropped_96_96/ 25\n",
      "(93377, 2, 96, 96)  :  (93377, 96, 96)\n",
      "Processing folder  datasets/cropped_96_96/ 26\n",
      "(97412, 2, 96, 96)  :  (97412, 96, 96)\n",
      "Processing folder  datasets/cropped_96_96/ 27\n",
      "(101401, 2, 96, 96)  :  (101401, 96, 96)\n",
      "Processing folder  datasets/cropped_96_96/ 28\n",
      "(105906, 2, 96, 96)  :  (105906, 96, 96)\n",
      "Processing folder  datasets/cropped_96_96/ 29\n",
      "(110966, 2, 96, 96)  :  (110966, 96, 96)\n",
      "Processing folder  datasets/cropped_96_96/ 30\n",
      "(115864, 2, 96, 96)  :  (115864, 96, 96)\n",
      "Processing folder  datasets/cropped_96_96/ 31\n",
      "(120303, 2, 96, 96)  :  (120303, 96, 96)\n",
      "Processing folder  datasets/cropped_96_96/ 32\n",
      "(124291, 2, 96, 96)  :  (124291, 96, 96)\n",
      "Processing folder  datasets/cropped_96_96/ 33\n",
      "(128000, 2, 96, 96)  :  (128000, 96, 96)\n",
      "Processing folder  datasets/cropped_96_96/ 34\n",
      "(132142, 2, 96, 96)  :  (132142, 96, 96)\n",
      "Processing folder  datasets/cropped_96_96/ 35\n",
      "(136785, 2, 96, 96)  :  (136785, 96, 96)\n",
      "Processing folder  datasets/cropped_96_96/ 36\n",
      "(141514, 2, 96, 96)  :  (141514, 96, 96)\n",
      "Processing folder  datasets/cropped_96_96/ 37\n",
      "(145909, 2, 96, 96)  :  (145909, 96, 96)\n",
      "Processing folder  datasets/cropped_96_96/ 38\n",
      "(150234, 2, 96, 96)  :  (150234, 96, 96)\n",
      "Processing folder  datasets/cropped_96_96/ 39\n",
      "(154936, 2, 96, 96)  :  (154936, 96, 96)\n",
      "Processing folder  datasets/cropped_96_96/ 40\n",
      "(159991, 2, 96, 96)  :  (159991, 96, 96)\n",
      "Processing folder  datasets/cropped_96_96/ 41\n",
      "(164956, 2, 96, 96)  :  (164956, 96, 96)\n",
      "Processing folder  datasets/cropped_96_96/ 42\n",
      "(169562, 2, 96, 96)  :  (169562, 96, 96)\n",
      "Processing folder  datasets/cropped_96_96/ 43\n",
      "(173758, 2, 96, 96)  :  (173758, 96, 96)\n",
      "Processing folder  datasets/cropped_96_96/ 44\n",
      "(177457, 2, 96, 96)  :  (177457, 96, 96)\n",
      "Processing folder  datasets/cropped_96_96/ 45\n",
      "(181612, 2, 96, 96)  :  (181612, 96, 96)\n",
      "Processing folder  datasets/cropped_96_96/ 46\n"
     ]
    },
    {
     "ename": "KeyboardInterrupt",
     "evalue": "",
     "output_type": "error",
     "traceback": [
      "\u001b[0;31m---------------------------------------------------------------------------\u001b[0m",
      "\u001b[0;31mKeyboardInterrupt\u001b[0m                         Traceback (most recent call last)",
      "\u001b[0;32m<ipython-input-2-a79bd51e9281>\u001b[0m in \u001b[0;36m<module>\u001b[0;34m\u001b[0m\n\u001b[1;32m     14\u001b[0m \u001b[0;31m#     mt.showImg(\"\",X_tmp[0,0],y_tmp[0],X_tmp[0,1])\u001b[0m\u001b[0;34m\u001b[0m\u001b[0;34m\u001b[0m\u001b[0m\n\u001b[1;32m     15\u001b[0m \u001b[0;34m\u001b[0m\u001b[0m\n\u001b[0;32m---> 16\u001b[0;31m     \u001b[0mX\u001b[0m \u001b[0;34m=\u001b[0m \u001b[0mnp\u001b[0m\u001b[0;34m.\u001b[0m\u001b[0mconcatenate\u001b[0m\u001b[0;34m(\u001b[0m\u001b[0;34m(\u001b[0m\u001b[0mX\u001b[0m\u001b[0;34m,\u001b[0m\u001b[0mX_tmp\u001b[0m\u001b[0;34m)\u001b[0m\u001b[0;34m,\u001b[0m\u001b[0maxis\u001b[0m\u001b[0;34m=\u001b[0m\u001b[0;36m0\u001b[0m\u001b[0;34m)\u001b[0m\u001b[0;34m\u001b[0m\u001b[0m\n\u001b[0m\u001b[1;32m     17\u001b[0m     \u001b[0my\u001b[0m \u001b[0;34m=\u001b[0m \u001b[0mnp\u001b[0m\u001b[0;34m.\u001b[0m\u001b[0mconcatenate\u001b[0m\u001b[0;34m(\u001b[0m\u001b[0;34m(\u001b[0m\u001b[0my\u001b[0m\u001b[0;34m,\u001b[0m\u001b[0my_tmp\u001b[0m\u001b[0;34m)\u001b[0m\u001b[0;34m,\u001b[0m\u001b[0maxis\u001b[0m\u001b[0;34m=\u001b[0m\u001b[0;36m0\u001b[0m\u001b[0;34m)\u001b[0m\u001b[0;34m\u001b[0m\u001b[0m\n\u001b[1;32m     18\u001b[0m \u001b[0;34m\u001b[0m\u001b[0m\n",
      "\u001b[0;31mKeyboardInterrupt\u001b[0m: "
     ]
    }
   ],
   "source": [
    "in_f = \"datasets/cropped_96_96/\"\n",
    "folders = sorted(os.listdir(in_f))\n",
    "# -------------------------------------------------------\n",
    "X,y = dt.loadToNPA(in_f + folders[0] + \"/\")\n",
    "print(X.shape, \" : \", y.shape)\n",
    "# -------------------------------------------------------\n",
    "for i in range(1,55):\n",
    "    print(\"Processing folder \", in_f, folders[i])\n",
    "    \n",
    "    X_tmp,y_tmp = dt.loadToNPA(in_f+folders[i]+\"/\")\n",
    "    X_tmp = np.rot90(X_tmp,k=i%4,axes=(2,3))\n",
    "    y_tmp = np.rot90(y_tmp,k=i%4,axes=(1,2))\n",
    "    \n",
    "#     mt.showImg(\"\",X_tmp[0,0],y_tmp[0],X_tmp[0,1])\n",
    "    \n",
    "    X = np.concatenate((X,X_tmp),axis=0)\n",
    "    y = np.concatenate((y,y_tmp),axis=0)\n",
    "    \n",
    "    print(X.shape, \" : \", y.shape)"
   ]
  },
  {
   "cell_type": "code",
   "execution_count": null,
   "metadata": {},
   "outputs": [],
   "source": [
    "from sklearn.model_selection import train_test_split\n",
    "\n",
    "Xtrain, Xtrash, ytrain, ytrash = train_test_split(X, y, test_size=0.35, random_state=123)\n",
    "Xtrain, Xtest, ytrain, ytest = train_test_split(Xtrain, ytrain, test_size=0.2, random_state=123)"
   ]
  },
  {
   "cell_type": "code",
   "execution_count": 6,
   "metadata": {},
   "outputs": [
    {
     "ename": "FileNotFoundError",
     "evalue": "[Errno 2] No such file or directory: 'datasets/interpolation/X_train.npy'",
     "output_type": "error",
     "traceback": [
      "\u001b[0;31m---------------------------------------------------------------------------\u001b[0m",
      "\u001b[0;31mFileNotFoundError\u001b[0m                         Traceback (most recent call last)",
      "\u001b[0;32m<ipython-input-6-747ff7bed592>\u001b[0m in \u001b[0;36m<module>\u001b[0;34m\u001b[0m\n\u001b[0;32m----> 1\u001b[0;31m \u001b[0mnp\u001b[0m\u001b[0;34m.\u001b[0m\u001b[0msave\u001b[0m\u001b[0;34m(\u001b[0m\u001b[0;34m\"datasets/interpolation/X_train\"\u001b[0m\u001b[0;34m,\u001b[0m\u001b[0mXtrain\u001b[0m\u001b[0;34m)\u001b[0m\u001b[0;34m\u001b[0m\u001b[0m\n\u001b[0m\u001b[1;32m      2\u001b[0m \u001b[0mnp\u001b[0m\u001b[0;34m.\u001b[0m\u001b[0msave\u001b[0m\u001b[0;34m(\u001b[0m\u001b[0;34m\"datasets/interpolation/y_train\"\u001b[0m\u001b[0;34m,\u001b[0m\u001b[0mytrain\u001b[0m\u001b[0;34m)\u001b[0m\u001b[0;34m\u001b[0m\u001b[0m\n\u001b[1;32m      3\u001b[0m \u001b[0;31m# np.save(\"datasets/interpolation/X_test\",Xtest)\u001b[0m\u001b[0;34m\u001b[0m\u001b[0;34m\u001b[0m\u001b[0m\n\u001b[1;32m      4\u001b[0m \u001b[0;31m# np.save(\"datasets/interpolation/y_test\",ytest)\u001b[0m\u001b[0;34m\u001b[0m\u001b[0;34m\u001b[0m\u001b[0m\n",
      "\u001b[0;32m/usr/local/lib/python3.5/dist-packages/numpy/lib/npyio.py\u001b[0m in \u001b[0;36msave\u001b[0;34m(file, arr, allow_pickle, fix_imports)\u001b[0m\n\u001b[1;32m    490\u001b[0m         \u001b[0;32mif\u001b[0m \u001b[0;32mnot\u001b[0m \u001b[0mfile\u001b[0m\u001b[0;34m.\u001b[0m\u001b[0mendswith\u001b[0m\u001b[0;34m(\u001b[0m\u001b[0;34m'.npy'\u001b[0m\u001b[0;34m)\u001b[0m\u001b[0;34m:\u001b[0m\u001b[0;34m\u001b[0m\u001b[0m\n\u001b[1;32m    491\u001b[0m             \u001b[0mfile\u001b[0m \u001b[0;34m=\u001b[0m \u001b[0mfile\u001b[0m \u001b[0;34m+\u001b[0m \u001b[0;34m'.npy'\u001b[0m\u001b[0;34m\u001b[0m\u001b[0m\n\u001b[0;32m--> 492\u001b[0;31m         \u001b[0mfid\u001b[0m \u001b[0;34m=\u001b[0m \u001b[0mopen\u001b[0m\u001b[0;34m(\u001b[0m\u001b[0mfile\u001b[0m\u001b[0;34m,\u001b[0m \u001b[0;34m\"wb\"\u001b[0m\u001b[0;34m)\u001b[0m\u001b[0;34m\u001b[0m\u001b[0m\n\u001b[0m\u001b[1;32m    493\u001b[0m         \u001b[0mown_fid\u001b[0m \u001b[0;34m=\u001b[0m \u001b[0;32mTrue\u001b[0m\u001b[0;34m\u001b[0m\u001b[0m\n\u001b[1;32m    494\u001b[0m     \u001b[0;32melif\u001b[0m \u001b[0mis_pathlib_path\u001b[0m\u001b[0;34m(\u001b[0m\u001b[0mfile\u001b[0m\u001b[0;34m)\u001b[0m\u001b[0;34m:\u001b[0m\u001b[0;34m\u001b[0m\u001b[0m\n",
      "\u001b[0;31mFileNotFoundError\u001b[0m: [Errno 2] No such file or directory: 'datasets/interpolation/X_train.npy'"
     ]
    }
   ],
   "source": [
    "np.save(\"datasets/interpolation/X_train\",Xtrain)\n",
    "np.save(\"datasets/interpolation/y_train\",ytrain)\n",
    "np.save(\"datasets/interpolation/X_test\",Xtest)\n",
    "np.save(\"datasets/interpolation/y_test\",ytest)"
   ]
  },
  {
   "cell_type": "markdown",
   "metadata": {},
   "source": [
    "### Making dataset smaller"
   ]
  },
  {
   "cell_type": "code",
   "execution_count": 1,
   "metadata": {},
   "outputs": [],
   "source": [
    "import numpy as np\n",
    "from sklearn.model_selection import train_test_split"
   ]
  },
  {
   "cell_type": "markdown",
   "metadata": {},
   "source": [
    "Here goes the training part of dataset."
   ]
  },
  {
   "cell_type": "code",
   "execution_count": null,
   "metadata": {},
   "outputs": [],
   "source": [
    "Xtrain = np.load(\"datasets/dataset_interpolation_96/X_train.npy\")\n",
    "ytrain = np.load(\"datasets/dataset_interpolation_96/y_train.npy\")"
   ]
  },
  {
   "cell_type": "code",
   "execution_count": 5,
   "metadata": {},
   "outputs": [
    {
     "data": {
      "text/plain": [
       "(149872, 2, 96, 96)"
      ]
     },
     "execution_count": 5,
     "metadata": {},
     "output_type": "execute_result"
    }
   ],
   "source": [
    "Xtrain.shape"
   ]
  },
  {
   "cell_type": "code",
   "execution_count": 4,
   "metadata": {},
   "outputs": [],
   "source": [
    "Xtrain, Xtrash, ytrain, ytrash = train_test_split(Xtrain, ytrain, test_size=0.1, random_state=123)"
   ]
  },
  {
   "cell_type": "code",
   "execution_count": 7,
   "metadata": {},
   "outputs": [],
   "source": [
    "np.save(\"datasets/dataset_interpolation_96/X_train\",Xtrain)\n",
    "np.save(\"datasets/dataset_interpolation_96/y_train\",ytrain)"
   ]
  },
  {
   "cell_type": "markdown",
   "metadata": {},
   "source": [
    "Here goes the test part of dataset."
   ]
  },
  {
   "cell_type": "code",
   "execution_count": 2,
   "metadata": {},
   "outputs": [],
   "source": [
    "Xtest = np.load(\"datasets/dataset_interpolation_96/X_test.npy\")\n",
    "ytest = np.load(\"datasets/dataset_interpolation_96/y_test.npy\")"
   ]
  },
  {
   "cell_type": "code",
   "execution_count": 3,
   "metadata": {},
   "outputs": [
    {
     "data": {
      "text/plain": [
       "(55509, 2, 96, 96)"
      ]
     },
     "execution_count": 3,
     "metadata": {},
     "output_type": "execute_result"
    }
   ],
   "source": [
    "Xtest.shape"
   ]
  },
  {
   "cell_type": "code",
   "execution_count": 4,
   "metadata": {},
   "outputs": [],
   "source": [
    "Xtest, Xtrash, ytest, ytrash = train_test_split(Xtest, ytest, test_size=0.1, random_state=123)"
   ]
  },
  {
   "cell_type": "code",
   "execution_count": 5,
   "metadata": {},
   "outputs": [],
   "source": [
    "np.save(\"datasets/dataset_interpolation_96/X_test\",Xtest)\n",
    "np.save(\"datasets/dataset_interpolation_96/y_test\",ytest)"
   ]
  },
  {
   "cell_type": "code",
   "execution_count": null,
   "metadata": {},
   "outputs": [],
   "source": []
  }
 ],
 "metadata": {
  "kernelspec": {
   "display_name": "Python 3",
   "language": "python",
   "name": "python3"
  },
  "language_info": {
   "codemirror_mode": {
    "name": "ipython",
    "version": 3
   },
   "file_extension": ".py",
   "mimetype": "text/x-python",
   "name": "python",
   "nbconvert_exporter": "python",
   "pygments_lexer": "ipython3",
   "version": "3.5.3"
  },
  "toc": {
   "base_numbering": 1,
   "nav_menu": {},
   "number_sections": false,
   "sideBar": false,
   "skip_h1_title": false,
   "title_cell": "Table of Contents",
   "title_sidebar": "Contents",
   "toc_cell": false,
   "toc_position": {},
   "toc_section_display": false,
   "toc_window_display": false
  }
 },
 "nbformat": 4,
 "nbformat_minor": 2
}
