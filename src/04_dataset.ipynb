{
 "cells": [
  {
   "cell_type": "code",
   "execution_count": null,
   "metadata": {},
   "outputs": [],
   "source": [
    "import _dataset_tools as dt\n",
    "import _my_tools as mt\n",
    "import cv2 as cv\n",
    "import numpy as np\n",
    "import os"
   ]
  },
  {
   "cell_type": "markdown",
   "metadata": {},
   "source": [
    "### Image cropping\n",
    "We take all of the grayscale radar images from folder `datasets/dataset_full/` and we crop squares of size $96\\times96$ from them with a stride of size $48$. The cropped squares are saved in `datasets/cropped_96_96/` in folder according to the square's coordinates."
   ]
  },
  {
   "cell_type": "code",
   "execution_count": null,
   "metadata": {},
   "outputs": [],
   "source": [
    "out_f = \"datasets/cropped_96_96/\"\n",
    "in_f = \"datasets/dataset_full/\"\n",
    "\n",
    "for f in range(55):\n",
    "    os.mkdir(out_f+str(f).zfill(2))"
   ]
  },
  {
   "cell_type": "code",
   "execution_count": null,
   "metadata": {},
   "outputs": [],
   "source": [
    "dt.cropFolder(in_f,out_f,96,48)"
   ]
  },
  {
   "cell_type": "markdown",
   "metadata": {},
   "source": [
    "### Cleaning and Triplets finding\n"
   ]
  },
  {
   "cell_type": "code",
   "execution_count": null,
   "metadata": {},
   "outputs": [],
   "source": []
  },
  {
   "cell_type": "code",
   "execution_count": null,
   "metadata": {},
   "outputs": [],
   "source": [
    "# this harvests all of the images into NP array\n",
    "\n",
    "X = []\n",
    "y = []\n",
    "\n",
    "folder = \"datasets_other/datasets_cropped/\"\n",
    "folders = sorted(os.listdir(folder))\n",
    "\n",
    "for f in folders:\n",
    "    images = sorted(os.listdir(folder+f+\"/\"))\n",
    "    for i in range(0,len(images),3):\n",
    "        img = [cv.imread(folder+f+\"/\"+images[j],cv.IMREAD_GRAYSCALE) for j in range(i,i+3)]\n",
    "        x_tmp = np.stack([img[0],img[2]],axis=0)\n",
    "        X.append(x_tmp)\n",
    "        y.append(img[1])\n",
    "        \n",
    "X = np.array(X)\n",
    "y = np.array(y)"
   ]
  },
  {
   "cell_type": "code",
   "execution_count": null,
   "metadata": {},
   "outputs": [],
   "source": [
    "img = cv.imread(\"tmp/full.png\",cv.IMREAD_GRAYSCALE)\n",
    "img2 = cv.imread(\"tmp/gray.png\",cv.IMREAD_GRAYSCALE)\n",
    "\n",
    "X = np.array((64,64,2))\n",
    "y = np.array((64,64,1))\n",
    "\n",
    "np.append(X,[[img,img2]])\n",
    "# X.append([img,img2])\n",
    "X"
   ]
  },
  {
   "cell_type": "code",
   "execution_count": null,
   "metadata": {},
   "outputs": [],
   "source": [
    "x = np.stack([img,img2],axis=0)\n",
    "x2 = np.stack([img,img2],axis=0)\n",
    "np.stack([x,x2,x],axis=0).shape"
   ]
  },
  {
   "cell_type": "code",
   "execution_count": null,
   "metadata": {},
   "outputs": [],
   "source": [
    "from sklearn.model_selection import train_test_split\n",
    "\n",
    "Xtrain, Xtrash, ytrain, ytrash = train_test_split(X, y, test_size=0.35, random_state=123)\n",
    "Xtrain, Xtest, ytrain, ytest = train_test_split(Xtrain, ytrain, test_size=0.2, random_state=123)"
   ]
  },
  {
   "cell_type": "code",
   "execution_count": null,
   "metadata": {},
   "outputs": [],
   "source": [
    "np.save(\"datasets/interpolation/X_train\",Xtrain)\n",
    "np.save(\"datasets/interpolation/y_train\",ytrain)\n",
    "np.save(\"datasets/interpolation/X_test\",Xtest)\n",
    "np.save(\"datasets/interpolation/y_test\",ytest)"
   ]
  },
  {
   "cell_type": "markdown",
   "metadata": {},
   "source": [
    "#### Showing images"
   ]
  },
  {
   "cell_type": "code",
   "execution_count": null,
   "metadata": {},
   "outputs": [],
   "source": [
    "import os\n",
    "import _my_tools as mt\n",
    "import cv2 as cv\n",
    "\n",
    "folder = \"05/\"\n",
    "\n",
    "for i in sorted(os.listdir(folder)):\n",
    "    if i[-4:] == \".png\":\n",
    "        img = cv.imread(folder+i,cv.IMREAD_GRAYSCALE)\n",
    "        mt.showImg(i,img)"
   ]
  },
  {
   "cell_type": "code",
   "execution_count": null,
   "metadata": {},
   "outputs": [],
   "source": []
  }
 ],
 "metadata": {
  "kernelspec": {
   "display_name": "Python 3",
   "language": "python",
   "name": "python3"
  },
  "language_info": {
   "codemirror_mode": {
    "name": "ipython",
    "version": 3
   },
   "file_extension": ".py",
   "mimetype": "text/x-python",
   "name": "python",
   "nbconvert_exporter": "python",
   "pygments_lexer": "ipython3",
   "version": "3.5.3"
  },
  "toc": {
   "base_numbering": 1,
   "nav_menu": {},
   "number_sections": false,
   "sideBar": false,
   "skip_h1_title": false,
   "title_cell": "Table of Contents",
   "title_sidebar": "Contents",
   "toc_cell": false,
   "toc_position": {},
   "toc_section_display": false,
   "toc_window_display": false
  }
 },
 "nbformat": 4,
 "nbformat_minor": 2
}
