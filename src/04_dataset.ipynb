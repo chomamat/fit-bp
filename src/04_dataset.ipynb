{
 "cells": [
  {
   "cell_type": "code",
   "execution_count": 2,
   "metadata": {},
   "outputs": [],
   "source": [
    "import tools._dataset_tools as dt\n",
    "import tools._my_tools as mt\n",
    "import cv2 as cv\n",
    "import numpy as np\n",
    "import os"
   ]
  },
  {
   "cell_type": "markdown",
   "metadata": {},
   "source": [
    "### Convert to Grayscale"
   ]
  },
  {
   "cell_type": "code",
   "execution_count": null,
   "metadata": {},
   "outputs": [],
   "source": [
    "# ToDo"
   ]
  },
  {
   "cell_type": "markdown",
   "metadata": {},
   "source": [
    "### Image Cropping\n",
    "All of the grayscale radar images from folder `datasets/dataset_full/` are taken and squares of size $96\\times96$ are cropped from them with a stride of size $48$. The cropped squares are saved in `datasets/cropped_96_96/` in folder according to the square's coordinates."
   ]
  },
  {
   "cell_type": "code",
   "execution_count": null,
   "metadata": {},
   "outputs": [],
   "source": [
    "out_f = \"datasets/cropped_96_96/\"\n",
    "in_f = \"datasets/dataset_full/\"\n",
    "\n",
    "for f in range(55):\n",
    "    os.mkdir(out_f+str(f).zfill(2))"
   ]
  },
  {
   "cell_type": "code",
   "execution_count": null,
   "metadata": {},
   "outputs": [],
   "source": [
    "dt.cropFolder(in_f,out_f,96,48)"
   ]
  },
  {
   "cell_type": "markdown",
   "metadata": {},
   "source": [
    "### Cleaning and Triplets Finding\n",
    "All images from every folder of `datasets/cropped_96_96/` are taken, and images that have more than $95\\%$ of the area without precipitation or have only precipitation of level $1$ (of $16$) are deleted. The previous images may also be removed so that there are in the end always left three consecutive images."
   ]
  },
  {
   "cell_type": "code",
   "execution_count": null,
   "metadata": {},
   "outputs": [],
   "source": [
    "in_f = \"datasets/cropped_96_96/\"\n",
    "for folder in sorted(os.listdir(in_f)):\n",
    "    dt.findSequence(in_f+folder+\"/\", 3)"
   ]
  },
  {
   "cell_type": "markdown",
   "metadata": {},
   "source": [
    "### Loading to NumPy Array\n",
    "\n",
    "Load all files in every folder to X, y NumPy arrays by folders."
   ]
  },
  {
   "cell_type": "code",
   "execution_count": 7,
   "metadata": {},
   "outputs": [
    {
     "name": "stdout",
     "output_type": "stream",
     "text": [
      "Processing folder datasets/cropped_96_96/ 00\n",
      "In folder: 2947 \t\tTotal: 2947\n",
      "Processing folder datasets/cropped_96_96/ 01\n",
      "In folder: 3383 \t\tTotal: 6330\n",
      "Processing folder datasets/cropped_96_96/ 02\n",
      "In folder: 3516 \t\tTotal: 9846\n",
      "Processing folder datasets/cropped_96_96/ 03\n",
      "In folder: 3413 \t\tTotal: 13259\n",
      "Processing folder datasets/cropped_96_96/ 04\n",
      "In folder: 3405 \t\tTotal: 16664\n",
      "Processing folder datasets/cropped_96_96/ 05\n",
      "In folder: 3375 \t\tTotal: 20039\n",
      "Processing folder datasets/cropped_96_96/ 06\n",
      "In folder: 3422 \t\tTotal: 23461\n",
      "Processing folder datasets/cropped_96_96/ 07\n",
      "In folder: 3459 \t\tTotal: 26920\n",
      "Processing folder datasets/cropped_96_96/ 08\n",
      "In folder: 3239 \t\tTotal: 30159\n",
      "Processing folder datasets/cropped_96_96/ 09\n",
      "In folder: 2918 \t\tTotal: 33077\n",
      "Processing folder datasets/cropped_96_96/ 10\n",
      "In folder: 2734 \t\tTotal: 35811\n",
      "Processing folder datasets/cropped_96_96/ 11\n",
      "In folder: 3433 \t\tTotal: 39244\n",
      "Processing folder datasets/cropped_96_96/ 12\n",
      "In folder: 3788 \t\tTotal: 43032\n",
      "Processing folder datasets/cropped_96_96/ 13\n",
      "In folder: 3901 \t\tTotal: 46933\n",
      "Processing folder datasets/cropped_96_96/ 14\n",
      "In folder: 3763 \t\tTotal: 50696\n",
      "Processing folder datasets/cropped_96_96/ 15\n",
      "In folder: 3760 \t\tTotal: 54456\n",
      "Processing folder datasets/cropped_96_96/ 16\n",
      "In folder: 3639 \t\tTotal: 58095\n",
      "Processing folder datasets/cropped_96_96/ 17\n",
      "In folder: 3908 \t\tTotal: 62003\n",
      "Processing folder datasets/cropped_96_96/ 18\n",
      "In folder: 4202 \t\tTotal: 66205\n",
      "Processing folder datasets/cropped_96_96/ 19\n",
      "In folder: 4087 \t\tTotal: 70292\n",
      "Processing folder datasets/cropped_96_96/ 20\n",
      "In folder: 3710 \t\tTotal: 74002\n",
      "Processing folder datasets/cropped_96_96/ 21\n",
      "In folder: 3449 \t\tTotal: 77451\n",
      "Processing folder datasets/cropped_96_96/ 22\n",
      "In folder: 3594 \t\tTotal: 81045\n",
      "Processing folder datasets/cropped_96_96/ 23\n",
      "In folder: 3894 \t\tTotal: 84939\n",
      "Processing folder datasets/cropped_96_96/ 24\n",
      "In folder: 4198 \t\tTotal: 89137\n",
      "Processing folder datasets/cropped_96_96/ 25\n",
      "In folder: 4240 \t\tTotal: 93377\n",
      "Processing folder datasets/cropped_96_96/ 26\n",
      "In folder: 4035 \t\tTotal: 97412\n",
      "Processing folder datasets/cropped_96_96/ 27\n",
      "In folder: 3989 \t\tTotal: 101401\n",
      "Processing folder datasets/cropped_96_96/ 28\n",
      "In folder: 4505 \t\tTotal: 105906\n",
      "Processing folder datasets/cropped_96_96/ 29\n",
      "In folder: 5060 \t\tTotal: 110966\n",
      "Processing folder datasets/cropped_96_96/ 30\n",
      "In folder: 4898 \t\tTotal: 115864\n",
      "Processing folder datasets/cropped_96_96/ 31\n",
      "In folder: 4439 \t\tTotal: 120303\n",
      "Processing folder datasets/cropped_96_96/ 32\n",
      "In folder: 3988 \t\tTotal: 124291\n",
      "Processing folder datasets/cropped_96_96/ 33\n",
      "In folder: 3709 \t\tTotal: 128000\n",
      "Processing folder datasets/cropped_96_96/ 34\n",
      "In folder: 4142 \t\tTotal: 132142\n",
      "Processing folder datasets/cropped_96_96/ 35\n",
      "In folder: 4643 \t\tTotal: 136785\n",
      "Processing folder datasets/cropped_96_96/ 36\n",
      "In folder: 4729 \t\tTotal: 141514\n",
      "Processing folder datasets/cropped_96_96/ 37\n",
      "In folder: 4395 \t\tTotal: 145909\n",
      "Processing folder datasets/cropped_96_96/ 38\n",
      "In folder: 4325 \t\tTotal: 150234\n",
      "Processing folder datasets/cropped_96_96/ 39\n",
      "In folder: 4702 \t\tTotal: 154936\n",
      "Processing folder datasets/cropped_96_96/ 40\n",
      "In folder: 5055 \t\tTotal: 159991\n",
      "Processing folder datasets/cropped_96_96/ 41\n",
      "In folder: 4965 \t\tTotal: 164956\n",
      "Processing folder datasets/cropped_96_96/ 42\n",
      "In folder: 4606 \t\tTotal: 169562\n",
      "Processing folder datasets/cropped_96_96/ 43\n",
      "In folder: 4196 \t\tTotal: 173758\n",
      "Processing folder datasets/cropped_96_96/ 44\n",
      "In folder: 3699 \t\tTotal: 177457\n",
      "Processing folder datasets/cropped_96_96/ 45\n",
      "In folder: 4155 \t\tTotal: 181612\n",
      "Processing folder datasets/cropped_96_96/ 46\n",
      "In folder: 4660 \t\tTotal: 186272\n",
      "Processing folder datasets/cropped_96_96/ 47\n",
      "In folder: 4694 \t\tTotal: 190966\n",
      "Processing folder datasets/cropped_96_96/ 48\n",
      "In folder: 4540 \t\tTotal: 195506\n",
      "Processing folder datasets/cropped_96_96/ 49\n",
      "In folder: 4437 \t\tTotal: 199943\n",
      "Processing folder datasets/cropped_96_96/ 50\n",
      "In folder: 4528 \t\tTotal: 204471\n",
      "Processing folder datasets/cropped_96_96/ 51\n",
      "In folder: 4674 \t\tTotal: 209145\n",
      "Processing folder datasets/cropped_96_96/ 52\n",
      "In folder: 4531 \t\tTotal: 213676\n",
      "Processing folder datasets/cropped_96_96/ 53\n",
      "In folder: 4313 \t\tTotal: 217989\n",
      "Processing folder datasets/cropped_96_96/ 54\n",
      "In folder: 4045 \t\tTotal: 222034\n"
     ]
    }
   ],
   "source": [
    "in_f = \"datasets/cropped_96_96/\"\n",
    "folders = sorted(os.listdir(in_f))\n",
    "X_sum = 0\n",
    "# -------------------------------------------------------\n",
    "for i in range(0,55):\n",
    "    print(\"Processing folder\", in_f, folders[i])\n",
    "    \n",
    "    X_tmp,y_tmp = dt.loadToNPA(in_f+folders[i]+\"/\")\n",
    "    X_tmp = np.rot90(X_tmp,k=i%4,axes=(2,3))\n",
    "    y_tmp = np.rot90(y_tmp,k=i%4,axes=(1,2))\n",
    "    \n",
    "    np.save(\"datasets/cropped_96_96/loaded/\"+str(i)+\"_X\",X_tmp)\n",
    "    np.save(\"datasets/cropped_96_96/loaded/\"+str(i)+\"_y\",y_tmp)\n",
    "    \n",
    "    X_sum += X_tmp.shape[0]\n",
    "    \n",
    "    print(\"In folder:\",X_tmp.shape[0],\"\\t\\tTotal:\",Xsum)"
   ]
  },
  {
   "cell_type": "markdown",
   "metadata": {},
   "source": [
    "### Concatenate NumPy Arrays"
   ]
  },
  {
   "cell_type": "code",
   "execution_count": 11,
   "metadata": {},
   "outputs": [
    {
     "name": "stdout",
     "output_type": "stream",
     "text": [
      "Final shape of X: (222034, 2, 96, 96)\n"
     ]
    }
   ],
   "source": [
    "in_f = \"datasets/cropped_96_96/loaded/\"\n",
    "X = np.load(in_f+\"0_X.npy\")\n",
    "# -------------------------------------------------------\n",
    "for i in range(1,55):\n",
    "    X_tmp = np.load(in_f+str(i)+\"_X.npy\")\n",
    "    X = np.concatenate((X,X_tmp),axis=0)\n",
    "# -------------------------------------------------------\n",
    "print(\"Final shape of X:\",X.shape)\n",
    "np.save(\"datasets/dataset_interpolation_96/full/X\",X)"
   ]
  },
  {
   "cell_type": "code",
   "execution_count": 12,
   "metadata": {},
   "outputs": [
    {
     "name": "stdout",
     "output_type": "stream",
     "text": [
      "Final shape of y: (222034, 96, 96)\n"
     ]
    }
   ],
   "source": [
    "in_f = \"datasets/cropped_96_96/loaded/\"\n",
    "y = np.load(in_f+\"0_y.npy\")\n",
    "# -------------------------------------------------------\n",
    "for i in range(1,55):\n",
    "    y_tmp = np.load(in_f+str(i)+\"_y.npy\")\n",
    "    y = np.concatenate((y,y_tmp),axis=0)\n",
    "y = np.expand_dims(y,1)                     # expand the dimensions so it fits with x\n",
    "# -------------------------------------------------------\n",
    "print(\"Final shape of y:\",y.shape)\n",
    "np.save(\"datasets/dataset_interpolation_96/full/y\",y)"
   ]
  },
  {
   "cell_type": "markdown",
   "metadata": {},
   "source": [
    "### Split the Dataset\n",
    "The test data."
   ]
  },
  {
   "cell_type": "code",
   "execution_count": 2,
   "metadata": {},
   "outputs": [
    {
     "name": "stdout",
     "output_type": "stream",
     "text": [
      "check 1\n",
      "check 2\n"
     ]
    }
   ],
   "source": [
    "from sklearn.model_selection import train_test_split\n",
    "# -------------------------------------------------------\n",
    "in_f = \"datasets/dataset_interpolation_96/full/\"\n",
    "out_f = \"datasets/dataset_interpolation_96/\"\n",
    "\n",
    "X = np.load(in_f+\"X.npy\")\n",
    "y = np.load(in_f+\"y.npy\")\n",
    "print(\"check 1\")\n",
    "# -------------------------------------------------------\n",
    "X_train, X_test, y_train, y_test = train_test_split(X, y, test_size=0.2, random_state=123)\n",
    "print(\"check 2\")\n",
    "# -------------------------------------------------------\n",
    "np.save(out_f+\"X_train_tmp\",X_train)\n",
    "np.save(out_f+\"y_train_tmp\",y_train)\n",
    "np.save(out_f+\"X_test\",X_test)\n",
    "np.save(out_f+\"y_test\",y_test)"
   ]
  },
  {
   "cell_type": "markdown",
   "metadata": {},
   "source": [
    "The validation data."
   ]
  },
  {
   "cell_type": "code",
   "execution_count": 2,
   "metadata": {},
   "outputs": [
    {
     "name": "stdout",
     "output_type": "stream",
     "text": [
      "check 1\n",
      "check 2\n"
     ]
    }
   ],
   "source": [
    "from sklearn.model_selection import train_test_split\n",
    "# -------------------------------------------------------\n",
    "in_f = \"datasets/dataset_interpolation_96/\"\n",
    "out_f = \"datasets/dataset_interpolation_96/\"\n",
    "\n",
    "X = np.load(in_f+\"X_train_tmp.npy\")\n",
    "y = np.load(in_f+\"y_train_tmp.npy\")\n",
    "print(\"check 1\")\n",
    "# -------------------------------------------------------\n",
    "X_train, X_val, y_train, y_val = train_test_split(X, y, test_size=0.2, random_state=123)\n",
    "print(\"check 2\")\n",
    "# -------------------------------------------------------\n",
    "np.save(out_f+\"X_train\",X_train)\n",
    "np.save(out_f+\"y_train\",y_train)\n",
    "np.save(out_f+\"X_val\",X_val)\n",
    "np.save(out_f+\"y_val\",y_val)"
   ]
  },
  {
   "cell_type": "markdown",
   "metadata": {},
   "source": [
    "================================================================\n",
    "\n",
    "================================================================\n",
    "\n",
    "================================================================\n",
    "## Part 2: 3 images -> 3 images"
   ]
  },
  {
   "cell_type": "code",
   "execution_count": 3,
   "metadata": {},
   "outputs": [],
   "source": [
    "in_f = \"datasets/cropped_seq_6/\"\n",
    "source_f = \"datasets/dataset_full/\""
   ]
  },
  {
   "cell_type": "code",
   "execution_count": 2,
   "metadata": {},
   "outputs": [],
   "source": [
    "for f in range(55):\n",
    "    os.mkdir(in_f+str(f).zfill(2))"
   ]
  },
  {
   "cell_type": "code",
   "execution_count": null,
   "metadata": {},
   "outputs": [
    {
     "name": "stdout",
     "output_type": "stream",
     "text": [
      "radarcs1804160150.png\r"
     ]
    }
   ],
   "source": [
    "dt.cropFolder(source_f,in_f,96,48)"
   ]
  },
  {
   "cell_type": "code",
   "execution_count": null,
   "metadata": {},
   "outputs": [],
   "source": [
    "for folder in sorted(os.listdir(in_f)):\n",
    "    dt.findSequence(in_f+folder+\"/\", 6)"
   ]
  },
  {
   "cell_type": "code",
   "execution_count": null,
   "metadata": {},
   "outputs": [],
   "source": [
    "folders = sorted(os.listdir(in_f))\n",
    "X_sum = 0\n",
    "# -------------------------------------------------------\n",
    "for i in range(0,55):\n",
    "    print(\"Processing folder\", in_f, folders[i])\n",
    "    \n",
    "    X_tmp,y_tmp = dt.loadSeqToNPA(in_f+folders[i]+\"/\",3,3)\n",
    "    X_tmp = np.rot90(X_tmp,k=i%4,axes=(2,3))\n",
    "    y_tmp = np.rot90(y_tmp,k=i%4,axes=(1,2))\n",
    "    \n",
    "    np.save(in_f+\"loaded/\"+str(i)+\"_X\",X_tmp)\n",
    "    np.save(in_f+\"loaded/\"+str(i)+\"_y\",y_tmp)\n",
    "    \n",
    "    X_sum += X_tmp.shape[0]\n",
    "    \n",
    "    print(\"In folder:\",X_tmp.shape[0],\"\\t\\tTotal:\",Xsum)"
   ]
  },
  {
   "cell_type": "markdown",
   "metadata": {},
   "source": [
    "================================================================\n",
    "\n",
    "================================================================\n",
    "\n",
    "================================================================"
   ]
  },
  {
   "cell_type": "code",
   "execution_count": 6,
   "metadata": {},
   "outputs": [
    {
     "name": "stdout",
     "output_type": "stream",
     "text": [
      "(35526, 1, 96, 96)\n"
     ]
    }
   ],
   "source": [
    "name = \"y_val\"\n",
    "in_f = \"datasets/dataset_interpolation_96/\"\n",
    "out_f = \"datasets/dataset_interpolation_96/tmp/\"\n",
    "y = np.load(in_f+ name + \".npy\")\n",
    "y = np.expand_dims(y,1)\n",
    "print(y.shape)\n",
    "np.save(out_f+name, y)"
   ]
  },
  {
   "cell_type": "code",
   "execution_count": 6,
   "metadata": {},
   "outputs": [
    {
     "ename": "FileNotFoundError",
     "evalue": "[Errno 2] No such file or directory: 'datasets/interpolation/X_train.npy'",
     "output_type": "error",
     "traceback": [
      "\u001b[0;31m---------------------------------------------------------------------------\u001b[0m",
      "\u001b[0;31mFileNotFoundError\u001b[0m                         Traceback (most recent call last)",
      "\u001b[0;32m<ipython-input-6-747ff7bed592>\u001b[0m in \u001b[0;36m<module>\u001b[0;34m\u001b[0m\n\u001b[0;32m----> 1\u001b[0;31m \u001b[0mnp\u001b[0m\u001b[0;34m.\u001b[0m\u001b[0msave\u001b[0m\u001b[0;34m(\u001b[0m\u001b[0;34m\"datasets/interpolation/X_train\"\u001b[0m\u001b[0;34m,\u001b[0m\u001b[0mXtrain\u001b[0m\u001b[0;34m)\u001b[0m\u001b[0;34m\u001b[0m\u001b[0m\n\u001b[0m\u001b[1;32m      2\u001b[0m \u001b[0mnp\u001b[0m\u001b[0;34m.\u001b[0m\u001b[0msave\u001b[0m\u001b[0;34m(\u001b[0m\u001b[0;34m\"datasets/interpolation/y_train\"\u001b[0m\u001b[0;34m,\u001b[0m\u001b[0mytrain\u001b[0m\u001b[0;34m)\u001b[0m\u001b[0;34m\u001b[0m\u001b[0m\n\u001b[1;32m      3\u001b[0m \u001b[0;31m# np.save(\"datasets/interpolation/X_test\",Xtest)\u001b[0m\u001b[0;34m\u001b[0m\u001b[0;34m\u001b[0m\u001b[0m\n\u001b[1;32m      4\u001b[0m \u001b[0;31m# np.save(\"datasets/interpolation/y_test\",ytest)\u001b[0m\u001b[0;34m\u001b[0m\u001b[0;34m\u001b[0m\u001b[0m\n",
      "\u001b[0;32m/usr/local/lib/python3.5/dist-packages/numpy/lib/npyio.py\u001b[0m in \u001b[0;36msave\u001b[0;34m(file, arr, allow_pickle, fix_imports)\u001b[0m\n\u001b[1;32m    490\u001b[0m         \u001b[0;32mif\u001b[0m \u001b[0;32mnot\u001b[0m \u001b[0mfile\u001b[0m\u001b[0;34m.\u001b[0m\u001b[0mendswith\u001b[0m\u001b[0;34m(\u001b[0m\u001b[0;34m'.npy'\u001b[0m\u001b[0;34m)\u001b[0m\u001b[0;34m:\u001b[0m\u001b[0;34m\u001b[0m\u001b[0m\n\u001b[1;32m    491\u001b[0m             \u001b[0mfile\u001b[0m \u001b[0;34m=\u001b[0m \u001b[0mfile\u001b[0m \u001b[0;34m+\u001b[0m \u001b[0;34m'.npy'\u001b[0m\u001b[0;34m\u001b[0m\u001b[0m\n\u001b[0;32m--> 492\u001b[0;31m         \u001b[0mfid\u001b[0m \u001b[0;34m=\u001b[0m \u001b[0mopen\u001b[0m\u001b[0;34m(\u001b[0m\u001b[0mfile\u001b[0m\u001b[0;34m,\u001b[0m \u001b[0;34m\"wb\"\u001b[0m\u001b[0;34m)\u001b[0m\u001b[0;34m\u001b[0m\u001b[0m\n\u001b[0m\u001b[1;32m    493\u001b[0m         \u001b[0mown_fid\u001b[0m \u001b[0;34m=\u001b[0m \u001b[0;32mTrue\u001b[0m\u001b[0;34m\u001b[0m\u001b[0m\n\u001b[1;32m    494\u001b[0m     \u001b[0;32melif\u001b[0m \u001b[0mis_pathlib_path\u001b[0m\u001b[0;34m(\u001b[0m\u001b[0mfile\u001b[0m\u001b[0;34m)\u001b[0m\u001b[0;34m:\u001b[0m\u001b[0;34m\u001b[0m\u001b[0m\n",
      "\u001b[0;31mFileNotFoundError\u001b[0m: [Errno 2] No such file or directory: 'datasets/interpolation/X_train.npy'"
     ]
    }
   ],
   "source": [
    "np.save(\"datasets/interpolation/X_train\",Xtrain)\n",
    "np.save(\"datasets/interpolation/y_train\",ytrain)\n",
    "np.save(\"datasets/interpolation/X_test\",Xtest)\n",
    "np.save(\"datasets/interpolation/y_test\",ytest)"
   ]
  },
  {
   "cell_type": "markdown",
   "metadata": {},
   "source": [
    "### Making dataset smaller"
   ]
  },
  {
   "cell_type": "code",
   "execution_count": 1,
   "metadata": {},
   "outputs": [],
   "source": [
    "import numpy as np\n",
    "from sklearn.model_selection import train_test_split"
   ]
  },
  {
   "cell_type": "markdown",
   "metadata": {},
   "source": [
    "Here goes the training part of dataset."
   ]
  },
  {
   "cell_type": "code",
   "execution_count": 3,
   "metadata": {},
   "outputs": [
    {
     "name": "stdout",
     "output_type": "stream",
     "text": [
      "(142101, 1, 96, 96)\n",
      "(35526, 1, 96, 96)\n",
      "(44407, 1, 96, 96)\n"
     ]
    }
   ],
   "source": [
    "# Xtrain = np.load(\"datasets/dataset_interpolation_96/X_train.npy\")\n",
    "ytrain = np.load(\"datasets/dataset_interpolation_96/y_train.npy\")\n",
    "print(ytrain.shape)\n",
    "ytrain = np.load(\"datasets/dataset_interpolation_96/y_val.npy\")\n",
    "print(ytrain.shape)\n",
    "ytrain = np.load(\"datasets/dataset_interpolation_96/y_test.npy\")\n",
    "print(ytrain.shape)"
   ]
  },
  {
   "cell_type": "code",
   "execution_count": 3,
   "metadata": {},
   "outputs": [
    {
     "data": {
      "text/plain": [
       "(149872, 96, 96)"
      ]
     },
     "execution_count": 3,
     "metadata": {},
     "output_type": "execute_result"
    }
   ],
   "source": [
    "ytrain.shape"
   ]
  },
  {
   "cell_type": "code",
   "execution_count": 5,
   "metadata": {},
   "outputs": [],
   "source": [
    "Xtrain, Xtrash, ytrain, ytrash = train_test_split(Xtrain, ytrain, test_size=0.13, random_state=123)"
   ]
  },
  {
   "cell_type": "code",
   "execution_count": 7,
   "metadata": {},
   "outputs": [],
   "source": [
    "np.save(\"datasets/dataset_interpolation_96/smaller/X_train\",Xtrain)\n",
    "np.save(\"datasets/dataset_interpolation_96/smaller/y_train\",ytrain)"
   ]
  },
  {
   "cell_type": "markdown",
   "metadata": {},
   "source": [
    "Here goes the test part of dataset."
   ]
  },
  {
   "cell_type": "code",
   "execution_count": 4,
   "metadata": {},
   "outputs": [],
   "source": [
    "# Xtest = np.load(\"datasets/dataset_interpolation_96/X_test.npy\")\n",
    "ytest = np.load(\"datasets/dataset_interpolation_96/y_test.npy\")"
   ]
  },
  {
   "cell_type": "code",
   "execution_count": 5,
   "metadata": {},
   "outputs": [
    {
     "data": {
      "text/plain": [
       "(49958, 96, 96)"
      ]
     },
     "execution_count": 5,
     "metadata": {},
     "output_type": "execute_result"
    }
   ],
   "source": [
    "ytest.shape"
   ]
  },
  {
   "cell_type": "code",
   "execution_count": 5,
   "metadata": {},
   "outputs": [],
   "source": [
    "Xtest, Xtrash, ytest, ytrash = train_test_split(Xtest, ytest, test_size=0.13, random_state=123)"
   ]
  },
  {
   "cell_type": "code",
   "execution_count": 7,
   "metadata": {},
   "outputs": [],
   "source": [
    "np.save(\"datasets/dataset_interpolation_96/smaller/X_test\",Xtest)\n",
    "np.save(\"datasets/dataset_interpolation_96/smaller/y_test\",ytest)"
   ]
  },
  {
   "cell_type": "code",
   "execution_count": null,
   "metadata": {},
   "outputs": [],
   "source": []
  }
 ],
 "metadata": {
  "kernelspec": {
   "display_name": "Python 3",
   "language": "python",
   "name": "python3"
  },
  "language_info": {
   "codemirror_mode": {
    "name": "ipython",
    "version": 3
   },
   "file_extension": ".py",
   "mimetype": "text/x-python",
   "name": "python",
   "nbconvert_exporter": "python",
   "pygments_lexer": "ipython3",
   "version": "3.6.7"
  },
  "toc": {
   "base_numbering": 1,
   "nav_menu": {},
   "number_sections": false,
   "sideBar": false,
   "skip_h1_title": false,
   "title_cell": "Table of Contents",
   "title_sidebar": "Contents",
   "toc_cell": false,
   "toc_position": {},
   "toc_section_display": false,
   "toc_window_display": false
  }
 },
 "nbformat": 4,
 "nbformat_minor": 2
}
