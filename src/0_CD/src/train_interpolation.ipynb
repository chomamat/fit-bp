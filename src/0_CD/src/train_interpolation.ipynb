{
 "cells": [
  {
   "cell_type": "code",
   "execution_count": null,
   "metadata": {
    "colab": {
     "base_uri": "https://8080-dot-7232556-dot-devshell.appspot.com/",
     "height": 34
    },
    "colab_type": "code",
    "id": "QG3xCwCI1Mfg",
    "outputId": "ea4c0f84-ccd9-4a7a-eb04-c514eef0285f"
   },
   "outputs": [],
   "source": [
    "import torch\n",
    "import torch.nn as nn\n",
    "import torch.optim as optim\n",
    "import numpy as np\n",
    "\n",
    "import tools._torch_tools as tt\n",
    "import models.loss as lo\n",
    "from models.interpolation import Model\n",
    "\n",
    "device = torch.device(\"cuda:0\" if torch.cuda.is_available() else \"cpu\")\n",
    "print(\"Device is\", device)\n",
    "\n",
    "data_folder = \"dataset_interpolation/\""
   ]
  },
  {
   "cell_type": "code",
   "execution_count": null,
   "metadata": {
    "colab": {
     "base_uri": "https://8080-dot-7232556-dot-devshell.appspot.com/",
     "height": 34
    },
    "colab_type": "code",
    "id": "rRxKlGE1r1DQ",
    "outputId": "12c741a6-88c8-42f0-b465-8f22f38b8974"
   },
   "outputs": [],
   "source": [
    "X_train, y_train = tt.loadData(data_folder,train=True,typeF='float16',channels_last=False)"
   ]
  },
  {
   "cell_type": "code",
   "execution_count": null,
   "metadata": {},
   "outputs": [],
   "source": [
    "X_val, y_val =  tt.loadData(data_folder,val=True,typeF='float16',channels_last=False)"
   ]
  },
  {
   "cell_type": "code",
   "execution_count": null,
   "metadata": {},
   "outputs": [],
   "source": [
    "X_test, y_test = tt.loadData(data_folder,test=True,typeF='float16',channels_last=False)"
   ]
  },
  {
   "cell_type": "markdown",
   "metadata": {},
   "source": [
    "### Training with the L1 loss"
   ]
  },
  {
   "cell_type": "code",
   "execution_count": null,
   "metadata": {
    "colab": {},
    "colab_type": "code",
    "id": "7VBTdoksr9EO"
   },
   "outputs": [],
   "source": [
    "model = Model()\n",
    "training = tt.Training(model, device, X_train, y_train, X_val, y_val, loss_function=nn.L1Loss())"
   ]
  },
  {
   "cell_type": "code",
   "execution_count": null,
   "metadata": {},
   "outputs": [],
   "source": [
    "try:\n",
    "    training.fit(32,50,val=True)\n",
    "except KeyboardInterrupt:\n",
    "    print(\"\\n\\nFinished training.\")"
   ]
  },
  {
   "cell_type": "code",
   "execution_count": null,
   "metadata": {},
   "outputs": [],
   "source": [
    "training.save(\"l1.pth\")"
   ]
  },
  {
   "cell_type": "code",
   "execution_count": null,
   "metadata": {},
   "outputs": [],
   "source": [
    "tt.plotHistory(training.history,save=\"history.png\",size=(5,4))\n",
    "tt.toCSV(\"history.csv\",training.history)"
   ]
  },
  {
   "cell_type": "markdown",
   "metadata": {},
   "source": [
    "### Training with the perceptual loss"
   ]
  },
  {
   "cell_type": "code",
   "execution_count": null,
   "metadata": {
    "colab": {},
    "colab_type": "code",
    "id": "7VBTdoksr9EO"
   },
   "outputs": [],
   "source": [
    "model = Model()\n",
    "model.load_state_dict(torch.load(\"l1.pth\",map_location=device))\n",
    "loss = lo.CombinedLoss(-18,0.00001)\n",
    "training = tt.Training(model, device, X_train, y_train, X_val, y_val, loss_function=loss)"
   ]
  },
  {
   "cell_type": "code",
   "execution_count": null,
   "metadata": {
    "scrolled": true
   },
   "outputs": [],
   "source": [
    "try:\n",
    "    training.fit(32,35,val=True)\n",
    "except KeyboardInterrupt:\n",
    "    print(\"\\n\\nFinished training.\")"
   ]
  },
  {
   "cell_type": "code",
   "execution_count": null,
   "metadata": {},
   "outputs": [],
   "source": [
    "training.save(\"final.pth\")"
   ]
  },
  {
   "cell_type": "code",
   "execution_count": null,
   "metadata": {
    "scrolled": true
   },
   "outputs": [],
   "source": [
    "tt.plotHistory(training.history,size=(5,4),save=\"history_2.png\")\n",
    "tt.toCSV(\"history_2.csv\",training.history)"
   ]
  },
  {
   "cell_type": "markdown",
   "metadata": {},
   "source": [
    "### SSIM index on test dataset"
   ]
  },
  {
   "cell_type": "code",
   "execution_count": null,
   "metadata": {},
   "outputs": [],
   "source": [
    "def validateSSIM(in_weights, X_set, y_set):\n",
    "    model = Model()\n",
    "    model.load_state_dict(torch.load(in_weights,map_location=device))\n",
    "    model.eval()\n",
    "    validating = tt.Training(model,device,X_set, y_set, X_set, y_set, loss_function=lo.SSIMLoss())\n",
    "   \n",
    "    return validating.validate(1)"
   ]
  },
  {
   "cell_type": "code",
   "execution_count": null,
   "metadata": {},
   "outputs": [],
   "source": [
    "final_test_SSIM = validateSSIM(\"final.pth\",X_test, y_test)"
   ]
  }
 ],
 "metadata": {
  "accelerator": "GPU",
  "colab": {
   "name": "12_pytorch.ipynb",
   "provenance": [],
   "version": "0.3.2"
  },
  "kernelspec": {
   "display_name": "Python 3",
   "language": "python",
   "name": "python3"
  },
  "language_info": {
   "codemirror_mode": {
    "name": "ipython",
    "version": 3
   },
   "file_extension": ".py",
   "mimetype": "text/x-python",
   "name": "python",
   "nbconvert_exporter": "python",
   "pygments_lexer": "ipython3",
   "version": "3.6.7"
  }
 },
 "nbformat": 4,
 "nbformat_minor": 2
}
