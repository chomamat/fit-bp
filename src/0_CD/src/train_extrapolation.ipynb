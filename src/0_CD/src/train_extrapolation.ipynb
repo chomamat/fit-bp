{
 "cells": [
  {
   "cell_type": "code",
   "execution_count": null,
   "metadata": {
    "colab": {
     "base_uri": "https://8080-dot-7232556-dot-devshell.appspot.com/",
     "height": 34
    },
    "colab_type": "code",
    "id": "d2ob5HCCoUpg",
    "outputId": "4ca8d3a9-2ee2-44f2-cb9c-a54a4480778b"
   },
   "outputs": [],
   "source": [
    "import torch\n",
    "import torch.nn as nn\n",
    "import torch.optim as optim\n",
    "import numpy as np\n",
    "\n",
    "import tools._torch_tools as tt\n",
    "import models.loss as lo\n",
    "from models.extrapolation import Model\n",
    "\n",
    "device = torch.device(\"cuda:0\" if torch.cuda.is_available() else \"cpu\")\n",
    "print(\"Device is\", device)\n",
    "\n",
    "data_folder = \"dataset_extrapolation/\""
   ]
  },
  {
   "cell_type": "code",
   "execution_count": null,
   "metadata": {
    "colab": {
     "base_uri": "https://8080-dot-7232556-dot-devshell.appspot.com/",
     "height": 52
    },
    "colab_type": "code",
    "id": "18MM-3jMAcC_",
    "outputId": "abf0f72e-38af-4d93-af32-e2e4d52b4160"
   },
   "outputs": [],
   "source": [
    "X_train, y_train = tt.loadData(data_folder,train=True,typeF='float16')"
   ]
  },
  {
   "cell_type": "code",
   "execution_count": null,
   "metadata": {
    "colab": {
     "base_uri": "https://8080-dot-7232556-dot-devshell.appspot.com/",
     "height": 52
    },
    "colab_type": "code",
    "id": "sacNcX8xoUp6",
    "outputId": "bc410d86-7476-43f6-fb49-77a62a0b36a8"
   },
   "outputs": [],
   "source": [
    "X_val, y_val = tt.loadData(data_folder,val=True,typeF='float16')"
   ]
  },
  {
   "cell_type": "code",
   "execution_count": null,
   "metadata": {},
   "outputs": [],
   "source": [
    "X_test, y_test = tt.loadData(data_folder,test=True,typeF='float16')"
   ]
  },
  {
   "cell_type": "code",
   "execution_count": null,
   "metadata": {
    "colab": {},
    "colab_type": "code",
    "id": "Y0IEvAxboUqB"
   },
   "outputs": [],
   "source": [
    "class Training(tt.Training):\n",
    "    def __init__(self,*args,**kwargs):\n",
    "        super(Training,self).__init__(*args,**kwargs)\n",
    "        \n",
    "    def getBatch(self, offset, batch_size, val=False):\n",
    "        input,target = super(Training,self).getBatch(offset, batch_size, val=val)\n",
    "        target = target[:,:1,:,:]\n",
    "        \n",
    "        return input, target"
   ]
  },
  {
   "cell_type": "markdown",
   "metadata": {},
   "source": [
    "### Training with the L1 loss"
   ]
  },
  {
   "cell_type": "code",
   "execution_count": null,
   "metadata": {
    "colab": {},
    "colab_type": "code",
    "id": "ZxDFdLNvoUqM"
   },
   "outputs": [],
   "source": [
    "model = Model()\n",
    "training = Training(model,device,X_train, y_train, X_val, y_val, loss_function=nn.L1Loss())"
   ]
  },
  {
   "cell_type": "code",
   "execution_count": null,
   "metadata": {
    "colab": {
     "base_uri": "https://8080-dot-7232556-dot-devshell.appspot.com/",
     "height": 295
    },
    "colab_type": "code",
    "id": "-6RyK4B3pCYw",
    "outputId": "0c9c87ab-b2be-4f2f-9e23-9d9e88a4d061"
   },
   "outputs": [],
   "source": [
    "try:\n",
    "    training.fit(32,40,val=True)\n",
    "except KeyboardInterrupt:\n",
    "    print(\"\\n\\nFinished training.\")"
   ]
  },
  {
   "cell_type": "code",
   "execution_count": null,
   "metadata": {},
   "outputs": [],
   "source": [
    "training.save(\"l1.pth\")"
   ]
  },
  {
   "cell_type": "code",
   "execution_count": null,
   "metadata": {
    "scrolled": true
   },
   "outputs": [],
   "source": [
    "tt.plotHistory(training.history,save=\"history.png\",size=(5,4))\n",
    "tt.toCSV(\"history.csv\",training.history)"
   ]
  },
  {
   "cell_type": "markdown",
   "metadata": {},
   "source": [
    "### Training with the perceptual loss"
   ]
  },
  {
   "cell_type": "code",
   "execution_count": null,
   "metadata": {},
   "outputs": [],
   "source": [
    "model = Model()\n",
    "model.load_state_dict(torch.load(\"l1.pth\",map_location=device))\n",
    "loss = lo.CombinedLoss(-18,0.00001)\n",
    "training = Training(model,device,X_train, y_train, X_val, y_val, loss_function=loss)"
   ]
  },
  {
   "cell_type": "code",
   "execution_count": null,
   "metadata": {},
   "outputs": [],
   "source": [
    "try:\n",
    "    training.fit(32, 35,val=True)\n",
    "except KeyboardInterrupt:\n",
    "    print(\"\\n\\nFinished training.\")"
   ]
  },
  {
   "cell_type": "code",
   "execution_count": null,
   "metadata": {},
   "outputs": [],
   "source": [
    "training.save(\"final.pth\")"
   ]
  },
  {
   "cell_type": "code",
   "execution_count": null,
   "metadata": {},
   "outputs": [],
   "source": [
    "tt.plotHistory(training.history,size=(5,4),save=\"history_2.png\")\n",
    "tt.toCSV(\"history_2.csv\",training.history)"
   ]
  },
  {
   "cell_type": "markdown",
   "metadata": {},
   "source": [
    "### SSIM test set validation"
   ]
  },
  {
   "cell_type": "code",
   "execution_count": null,
   "metadata": {},
   "outputs": [],
   "source": [
    "def toTensor(x):\n",
    "    return torch.tensor(x,dtype=torch.float).view(1,-1,96,96).to(device)"
   ]
  },
  {
   "cell_type": "code",
   "execution_count": null,
   "metadata": {},
   "outputs": [],
   "source": [
    "ssim = lo.SSIMLoss()\n",
    "model = Model().to(device)\n",
    "model.load_state_dict(torch.load(\"final.pth\",map_location=device))\n",
    "model.eval()"
   ]
  },
  {
   "cell_type": "code",
   "execution_count": null,
   "metadata": {
    "scrolled": true
   },
   "outputs": [],
   "source": [
    "res = [0.,0.,0.]\n",
    "for i in range(len(X_test)):\n",
    "    out = model.predict(toTensor(X_test[i:i+1]),3)\n",
    "    for j in range(3):\n",
    "        res[j] += ssim(out[:,j:j+1],toTensor(y_test[i:i+1,j:j+1]))\n",
    "        \n",
    "    if i % 8 == 0:\n",
    "        print('\\r'+str(i).zfill(5)+\" \"+str(res[0]/(i+1)),end='',flush=True)\n",
    "\n",
    "print(\"\")\n",
    "for i in range(3):\n",
    "    res[i] = res[i] / len(X_test)\n",
    "    print(res[i])\n",
    "    print(\"================\")"
   ]
  }
 ],
 "metadata": {
  "accelerator": "GPU",
  "colab": {
   "name": "16_extrapolation.ipynb",
   "provenance": [],
   "version": "0.3.2"
  },
  "kernelspec": {
   "display_name": "Python 3",
   "language": "python",
   "name": "python3"
  },
  "language_info": {
   "codemirror_mode": {
    "name": "ipython",
    "version": 3
   },
   "file_extension": ".py",
   "mimetype": "text/x-python",
   "name": "python",
   "nbconvert_exporter": "python",
   "pygments_lexer": "ipython3",
   "version": "3.6.7"
  }
 },
 "nbformat": 4,
 "nbformat_minor": 2
}
